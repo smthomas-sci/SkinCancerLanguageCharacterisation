{
 "cells": [
  {
   "cell_type": "code",
   "execution_count": 1,
   "id": "26465540",
   "metadata": {},
   "outputs": [
    {
     "name": "stderr",
     "output_type": "stream",
     "text": [
      "2021-10-27 14:26:32.376182: I tensorflow/stream_executor/platform/default/dso_loader.cc:53] Successfully opened dynamic library libcudart.so.11.0\n"
     ]
    }
   ],
   "source": [
    "import pathlib\n",
    "import random\n",
    "import string\n",
    "import re\n",
    "import numpy as np\n",
    "import collections\n",
    "import logging\n",
    "import os\n",
    "import sys\n",
    "import time\n",
    "\n",
    "import numpy as np\n",
    "import matplotlib.pyplot as plt\n",
    "\n",
    "import tensorflow_text as text\n",
    "import tensorflow as tf\n",
    "from tensorflow import keras\n",
    "from tensorflow.keras import layers"
   ]
  },
  {
   "cell_type": "markdown",
   "id": "c00e101e",
   "metadata": {},
   "source": [
    "# Layers"
   ]
  },
  {
   "cell_type": "code",
   "execution_count": 2,
   "id": "ca3534da",
   "metadata": {},
   "outputs": [],
   "source": [
    "class MultiHeadAttention(tf.keras.layers.Layer):\n",
    "    def __init__(self, d_model, num_heads):\n",
    "        super(MultiHeadAttention, self).__init__()\n",
    "        self.num_heads = num_heads\n",
    "        self.d_model = d_model\n",
    "\n",
    "        assert d_model % self.num_heads == 0\n",
    "\n",
    "        self.depth = d_model // self.num_heads\n",
    "\n",
    "        self.wq = tf.keras.layers.Dense(d_model)\n",
    "        self.wk = tf.keras.layers.Dense(d_model)\n",
    "        self.wv = tf.keras.layers.Dense(d_model)\n",
    "\n",
    "        self.dense = tf.keras.layers.Dense(d_model)\n",
    "\n",
    "    def split_heads(self, x, batch_size):\n",
    "        \"\"\"Split the last dimension into (num_heads, depth).\n",
    "        Transpose the result such that the shape is (batch_size, num_heads, seq_len, depth)\n",
    "        \"\"\"\n",
    "        x = tf.reshape(x, (batch_size, -1, self.num_heads, self.depth))\n",
    "        return tf.transpose(x, perm=[0, 2, 1, 3])\n",
    "    \n",
    "    \n",
    "    def scaled_dot_product_attention(self, q, k, v, mask):\n",
    "        \"\"\"Calculate the attention weights.\n",
    "        q, k, v must have matching leading dimensions.\n",
    "        k, v must have matching penultimate dimension, i.e.: seq_len_k = seq_len_v.\n",
    "        The mask has different shapes depending on its type(padding or look ahead)\n",
    "        but it must be broadcastable for addition.\n",
    "\n",
    "        Args:\n",
    "        q: query shape == (..., seq_len_q, depth)\n",
    "        k: key shape == (..., seq_len_k, depth)\n",
    "        v: value shape == (..., seq_len_v, depth_v)\n",
    "        mask: Float tensor with shape broadcastable\n",
    "              to (..., seq_len_q, seq_len_k). Defaults to None.\n",
    "\n",
    "        Returns:\n",
    "        output, attention_weights\n",
    "        \"\"\"\n",
    "\n",
    "        matmul_qk = tf.matmul(q, k, transpose_b=True)  # (..., seq_len_q, seq_len_k)\n",
    "\n",
    "        # scale matmul_qk\n",
    "        dk = tf.cast(tf.shape(k)[-1], tf.float32)\n",
    "        scaled_attention_logits = matmul_qk / tf.math.sqrt(dk)\n",
    "\n",
    "        # add the mask to the scaled tensor.\n",
    "        if mask is not None:\n",
    "            scaled_attention_logits += (mask * -1e9)\n",
    "\n",
    "        # softmax is normalized on the last axis (seq_len_k) so that the scores\n",
    "        # add up to 1.\n",
    "        attention_weights = tf.nn.softmax(scaled_attention_logits, axis=-1)  # (..., seq_len_q, seq_len_k)\n",
    "\n",
    "        output = tf.matmul(attention_weights, v)  # (..., seq_len_q, depth_v)\n",
    "\n",
    "        return output, attention_weights\n",
    "\n",
    "    def call(self, v, k, q, mask):\n",
    "        batch_size = tf.shape(q)[0]\n",
    "\n",
    "        q = self.wq(q)  # (batch_size, seq_len, d_model)\n",
    "        k = self.wk(k)  # (batch_size, seq_len, d_model)\n",
    "        v = self.wv(v)  # (batch_size, seq_len, d_model)\n",
    "\n",
    "        q = self.split_heads(q, batch_size)  # (batch_size, num_heads, seq_len_q, depth)\n",
    "        k = self.split_heads(k, batch_size)  # (batch_size, num_heads, seq_len_k, depth)\n",
    "        v = self.split_heads(v, batch_size)  # (batch_size, num_heads, seq_len_v, depth)\n",
    "\n",
    "        # scaled_attention.shape == (batch_size, num_heads, seq_len_q, depth)\n",
    "        # attention_weights.shape == (batch_size, num_heads, seq_len_q, seq_len_k)\n",
    "        scaled_attention, attention_weights = self.scaled_dot_product_attention(\n",
    "            q, k, v, mask)\n",
    "\n",
    "        scaled_attention = tf.transpose(scaled_attention, perm=[0, 2, 1, 3])  # (batch_size, seq_len_q, num_heads, depth)\n",
    "\n",
    "        concat_attention = tf.reshape(scaled_attention,\n",
    "                                      (batch_size, -1, self.d_model))  # (batch_size, seq_len_q, d_model)\n",
    "\n",
    "        output = self.dense(concat_attention)  # (batch_size, seq_len_q, d_model)\n",
    "\n",
    "        return output, attention_weights"
   ]
  },
  {
   "cell_type": "code",
   "execution_count": 3,
   "id": "10f43a1c",
   "metadata": {},
   "outputs": [],
   "source": [
    "class EncoderLayer(tf.keras.layers.Layer):\n",
    "    def __init__(self, d_model, num_heads, dff, rate=0.1):\n",
    "        super(EncoderLayer, self).__init__()\n",
    "\n",
    "        self.mha = MultiHeadAttention(d_model, num_heads)\n",
    "        self.ffn = self.point_wise_feed_forward_network(d_model, dff)\n",
    "\n",
    "        self.layernorm1 = tf.keras.layers.LayerNormalization(epsilon=1e-6)\n",
    "        self.layernorm2 = tf.keras.layers.LayerNormalization(epsilon=1e-6)\n",
    "\n",
    "        self.dropout1 = tf.keras.layers.Dropout(rate)\n",
    "        self.dropout2 = tf.keras.layers.Dropout(rate)\n",
    "\n",
    "    def call(self, x, training, mask):\n",
    "\n",
    "        attn_output, _ = self.mha(x, x, x, mask)  # (batch_size, input_seq_len, d_model)\n",
    "        attn_output = self.dropout1(attn_output, training=training)\n",
    "        out1 = self.layernorm1(x + attn_output)  # (batch_size, input_seq_len, d_model)\n",
    "\n",
    "        ffn_output = self.ffn(out1)  # (batch_size, input_seq_len, d_model)\n",
    "        ffn_output = self.dropout2(ffn_output, training=training)\n",
    "        out2 = self.layernorm2(out1 + ffn_output)  # (batch_size, input_seq_len, d_model)\n",
    "\n",
    "        return out2\n",
    "    \n",
    "    @staticmethod\n",
    "    def point_wise_feed_forward_network(d_model, dff):\n",
    "        return tf.keras.Sequential([\n",
    "                  tf.keras.layers.Dense(dff, activation='relu'),  # (batch_size, seq_len, dff)\n",
    "                  tf.keras.layers.Dense(d_model)  # (batch_size, seq_len, d_model)\n",
    "                ])\n"
   ]
  },
  {
   "cell_type": "code",
   "execution_count": 4,
   "id": "8317ccf3",
   "metadata": {},
   "outputs": [],
   "source": [
    "class DecoderLayer(tf.keras.layers.Layer):\n",
    "    def __init__(self, d_model, num_heads, dff, rate=0.1):\n",
    "        super(DecoderLayer, self).__init__()\n",
    "\n",
    "        self.mha1 = MultiHeadAttention(d_model, num_heads)\n",
    "        self.mha2 = MultiHeadAttention(d_model, num_heads)\n",
    "\n",
    "        self.ffn = self.point_wise_feed_forward_network(d_model, dff)\n",
    "\n",
    "        self.layernorm1 = tf.keras.layers.LayerNormalization(epsilon=1e-6)\n",
    "        self.layernorm2 = tf.keras.layers.LayerNormalization(epsilon=1e-6)\n",
    "        self.layernorm3 = tf.keras.layers.LayerNormalization(epsilon=1e-6)\n",
    "\n",
    "        self.dropout1 = tf.keras.layers.Dropout(rate)\n",
    "        self.dropout2 = tf.keras.layers.Dropout(rate)\n",
    "        self.dropout3 = tf.keras.layers.Dropout(rate)\n",
    "\n",
    "    def call(self, x, enc_output, training, look_ahead_mask, padding_mask):\n",
    "        # enc_output.shape == (batch_size, input_seq_len, d_model)\n",
    "        attn1, attn_weights_block1 = self.mha1(x, x, x, look_ahead_mask)  # (batch_size, target_seq_len, d_model)\n",
    "        attn1 = self.dropout1(attn1, training=training)\n",
    "        out1 = self.layernorm1(attn1 + x)\n",
    "\n",
    "        attn2, attn_weights_block2 = self.mha2(\n",
    "            enc_output, enc_output, out1, padding_mask)  # (batch_size, target_seq_len, d_model)\n",
    "        attn2 = self.dropout2(attn2, training=training)\n",
    "        out2 = self.layernorm2(attn2 + out1)  # (batch_size, target_seq_len, d_model)\n",
    "\n",
    "        ffn_output = self.ffn(out2)  # (batch_size, target_seq_len, d_model)\n",
    "        ffn_output = self.dropout3(ffn_output, training=training)\n",
    "        out3 = self.layernorm3(ffn_output + out2)  # (batch_size, target_seq_len, d_model)\n",
    "\n",
    "        return out3, attn_weights_block1, attn_weights_block2\n",
    "    \n",
    "    @staticmethod\n",
    "    def point_wise_feed_forward_network(d_model, dff):\n",
    "        return tf.keras.Sequential([\n",
    "                  tf.keras.layers.Dense(dff, activation='relu'),  # (batch_size, seq_len, dff)\n",
    "                  tf.keras.layers.Dense(d_model)  # (batch_size, seq_len, d_model)\n",
    "                ])"
   ]
  },
  {
   "cell_type": "code",
   "execution_count": 5,
   "id": "b4a83dd1",
   "metadata": {},
   "outputs": [],
   "source": [
    "class TransformerModule(tf.keras.layers.Layer):\n",
    "    def __init__(self, **kwargs):\n",
    "        super(TransformerModule, self).__init__(**kwargs)\n",
    "        \n",
    "    @staticmethod\n",
    "    def get_angles(pos, i, d_model):\n",
    "        angle_rates = 1 / np.power(10000, (2 * (i//2)) / np.float32(d_model))\n",
    "        return pos * angle_rates\n",
    "\n",
    "    @staticmethod\n",
    "    def positional_encoding(position, d_model):\n",
    "        angle_rads = TransformerModule.get_angles(np.arange(position)[:, np.newaxis],\n",
    "                              np.arange(d_model)[np.newaxis, :],\n",
    "                              d_model)\n",
    "\n",
    "        # apply sin to even indices in the array; 2i\n",
    "        angle_rads[:, 0::2] = np.sin(angle_rads[:, 0::2])\n",
    "\n",
    "        # apply cos to odd indices in the array; 2i+1\n",
    "        angle_rads[:, 1::2] = np.cos(angle_rads[:, 1::2])\n",
    "\n",
    "        pos_encoding = angle_rads[np.newaxis, ...]\n",
    "\n",
    "        return tf.cast(pos_encoding, dtype=tf.float32)\n"
   ]
  },
  {
   "cell_type": "code",
   "execution_count": 6,
   "id": "766a5f9c",
   "metadata": {},
   "outputs": [],
   "source": [
    "class Encoder(TransformerModule):\n",
    "    def __init__(self, num_layers, d_model, num_heads, dff, input_vocab_size,\n",
    "               maximum_position_encoding, rate=0.1):\n",
    "        \"\"\"\n",
    "        Description\n",
    "        \"\"\"\n",
    "        super(Encoder, self).__init__()\n",
    "\n",
    "        self.d_model = d_model\n",
    "        self.num_layers = num_layers\n",
    "\n",
    "        self.embedding = tf.keras.layers.Embedding(input_vocab_size, d_model)\n",
    "        self.pos_encoding = self.positional_encoding(maximum_position_encoding,\n",
    "                                                self.d_model)\n",
    "\n",
    "        self.enc_layers = [EncoderLayer(d_model, num_heads, dff, rate)\n",
    "                           for _ in range(num_layers)]\n",
    "\n",
    "        self.dropout = tf.keras.layers.Dropout(rate)\n",
    "\n",
    "    def call(self, x, training, mask):\n",
    "        \"\"\"\n",
    "        Description\n",
    "        \"\"\"\n",
    "\n",
    "        seq_len = tf.shape(x)[1]\n",
    "\n",
    "        # adding embedding and position encoding.\n",
    "        x = self.embedding(x)  # (batch_size, input_seq_len, d_model)\n",
    "        x *= tf.math.sqrt(tf.cast(self.d_model, tf.float32))\n",
    "        x += self.pos_encoding[:, :seq_len, :]\n",
    "\n",
    "        x = self.dropout(x, training=training)\n",
    "\n",
    "        for i in range(self.num_layers):\n",
    "            x = self.enc_layers[i](x, training, mask)\n",
    "\n",
    "        return x  # (batch_size, input_seq_len, d_model)\n"
   ]
  },
  {
   "cell_type": "code",
   "execution_count": 7,
   "id": "02599d70",
   "metadata": {},
   "outputs": [],
   "source": [
    "class Decoder(TransformerModule):\n",
    "    \"\"\"\n",
    "    description\n",
    "    \"\"\"\n",
    "    def __init__(self, num_layers, d_model, num_heads, dff, target_vocab_size,\n",
    "               maximum_position_encoding, rate=0.1):\n",
    "        \"\"\"\n",
    "        descriptions\n",
    "        \"\"\"\n",
    "        super(Decoder, self).__init__()\n",
    "\n",
    "        self.d_model = d_model\n",
    "        self.num_layers = num_layers\n",
    "\n",
    "        self.embedding = tf.keras.layers.Embedding(target_vocab_size, d_model)\n",
    "        self.pos_encoding = self.positional_encoding(maximum_position_encoding, d_model)\n",
    "\n",
    "        self.dec_layers = [DecoderLayer(d_model, num_heads, dff, rate)\n",
    "                           for _ in range(num_layers)]\n",
    "        self.dropout = tf.keras.layers.Dropout(rate)\n",
    "\n",
    "    def call(self, x, enc_output, training, look_ahead_mask, padding_mask):\n",
    "\n",
    "        seq_len = tf.shape(x)[1]\n",
    "        attention_weights = {}\n",
    "\n",
    "        x = self.embedding(x)  # (batch_size, target_seq_len, d_model)\n",
    "        x *= tf.math.sqrt(tf.cast(self.d_model, tf.float32))\n",
    "        x += self.pos_encoding[:, :seq_len, :]\n",
    "\n",
    "        x = self.dropout(x, training=training)\n",
    "\n",
    "        for i in range(self.num_layers):\n",
    "            x, block1, block2 = self.dec_layers[i](x, enc_output, training, look_ahead_mask, padding_mask)\n",
    "            \n",
    "            attention_weights[f'decoder_layer{i+1}_block1'] = block1\n",
    "            attention_weights[f'decoder_layer{i+1}_block2'] = block2\n",
    "\n",
    "        # x.shape == (batch_size, target_seq_len, d_model)\n",
    "        return x, attention_weights"
   ]
  },
  {
   "cell_type": "code",
   "execution_count": 8,
   "id": "ea3695b9",
   "metadata": {},
   "outputs": [],
   "source": [
    "class Transformer(tf.keras.Model):\n",
    "    def __init__(self, num_layers, d_model, num_heads, dff, input_vocab_size,\n",
    "               target_vocab_size, pe_input, pe_target, rate=0.1):\n",
    "        super().__init__()\n",
    "        self.encoder = Encoder(num_layers, d_model, num_heads, dff,\n",
    "                                 input_vocab_size, pe_input, rate)\n",
    "\n",
    "        self.decoder = Decoder(num_layers, d_model, num_heads, dff,\n",
    "                               target_vocab_size, pe_target, rate)\n",
    "\n",
    "        self.final_layer = tf.keras.layers.Dense(target_vocab_size, name=\"predictions\")\n",
    "\n",
    "\n",
    "    def call(self, inputs, training):\n",
    "        # Keras models prefer if you pass all your inputs in the first argument\n",
    "        inp, tar = inputs\n",
    "\n",
    "        enc_padding_mask, look_ahead_mask, dec_padding_mask = self.create_masks(inp, tar)\n",
    "\n",
    "        enc_output = self.encoder(inp, training, enc_padding_mask)  # (batch_size, inp_seq_len, d_model)\n",
    "\n",
    "        # dec_output.shape == (batch_size, tar_seq_len, d_model)\n",
    "        dec_output, attention_weights = self.decoder(\n",
    "            tar, enc_output, training, look_ahead_mask, dec_padding_mask)\n",
    "\n",
    "        final_output = self.final_layer(dec_output)  # (batch_size, tar_seq_len, target_vocab_size)\n",
    "\n",
    "        return final_output, attention_weights\n",
    "    \n",
    "    \n",
    "    def create_masks(self, inp, tar):\n",
    "        # Encoder padding mask\n",
    "        enc_padding_mask = self.create_padding_mask(inp)\n",
    "\n",
    "        # Used in the 2nd attention block in the decoder.\n",
    "        # This padding mask is used to mask the encoder outputs.\n",
    "        dec_padding_mask = self.create_padding_mask(inp)\n",
    "\n",
    "        # Used in the 1st attention block in the decoder.\n",
    "        # It is used to pad and mask future tokens in the input received by\n",
    "        # the decoder.\n",
    "        look_ahead_mask = self.create_look_ahead_mask(tf.shape(tar)[1])\n",
    "        dec_target_padding_mask = self.create_padding_mask(tar)\n",
    "        look_ahead_mask = tf.maximum(dec_target_padding_mask, look_ahead_mask)\n",
    "\n",
    "        return enc_padding_mask, look_ahead_mask, dec_padding_mask\n",
    "    \n",
    "    def compile(self, optimizer, **kwargs):\n",
    "        super().compile(**kwargs)\n",
    "        \n",
    "        self.optimizer = optimizer\n",
    "        \n",
    "        self.loss = tf.keras.losses.SparseCategoricalCrossentropy(from_logits=True, reduction='none')\n",
    "        \n",
    "        # Create trackers\n",
    "        self.train_loss = tf.keras.metrics.Mean(name='train_loss')\n",
    "        self.train_accuracy = tf.keras.metrics.Mean(name='train_accuracy')\n",
    "        \n",
    "        \n",
    "    @tf.function\n",
    "    def train_step(self, batch):\n",
    "        \n",
    "        inp, tar = batch\n",
    "        \n",
    "        # offset target to make decoder input and decoder output - shifted by 1\n",
    "        tar_inp = tar[:, :-1]\n",
    "        tar_real = tar[:, 1:]\n",
    "\n",
    "        with tf.GradientTape() as tape:\n",
    "            # Get predictions\n",
    "            predictions, _ = self([inp, tar_inp], training=True)\n",
    "            \n",
    "            # Compute loss\n",
    "            loss = self.loss_function(tar_real, predictions)\n",
    "\n",
    "        gradients = tape.gradient(loss, transformer.trainable_variables)\n",
    "        self.optimizer.apply_gradients(zip(gradients, transformer.trainable_variables))\n",
    "\n",
    "        # Compute metrics\n",
    "        acc = self.accuracy_function(tar_real, predictions)\n",
    "        \n",
    "        # Update states\n",
    "        self.train_loss(loss)\n",
    "        self.train_accuracy(acc)\n",
    "        \n",
    "        return {\"loss\": self.train_loss.result(), \"acc\": self.train_accuracy.result() }\n",
    "    \n",
    "    \n",
    "    def test_step(self, batch):\n",
    "        \n",
    "        inp, tar = batch\n",
    "        \n",
    "        # offset target to make decoder input and decoder output - shifted by 1\n",
    "        tar_inp = tar[:, :-1]\n",
    "        tar_real = tar[:, 1:]\n",
    "        \n",
    "        predictions, _ = self([inp, tar_inp], training=True)\n",
    "    \n",
    "        # compute metrics\n",
    "        loss = self.loss_function(tar_real, predictions)\n",
    "        acc = self.accuracy_function(tar_real, predictions)\n",
    "        \n",
    "        return {\"loss\": loss, \"acc\": acc}\n",
    "        \n",
    "\n",
    "    def accuracy_function(self, real, pred):\n",
    "        accuracies = tf.equal(real, tf.argmax(pred, axis=2))\n",
    "\n",
    "        mask = tf.math.logical_not(tf.math.equal(real, 0))\n",
    "        accuracies = tf.math.logical_and(mask, accuracies)\n",
    "\n",
    "        accuracies = tf.cast(accuracies, dtype=tf.float32)\n",
    "        mask = tf.cast(mask, dtype=tf.float32)\n",
    "        return tf.reduce_sum(accuracies)/tf.reduce_sum(mask) \n",
    "        \n",
    "    def loss_function(self, real, pred):\n",
    "        mask = tf.math.logical_not(tf.math.equal(real, 0))\n",
    "        loss_ = self.loss(real, pred)\n",
    "\n",
    "        mask = tf.cast(mask, dtype=loss_.dtype)\n",
    "        loss_ *= mask\n",
    "\n",
    "        return tf.reduce_sum(loss_)/tf.reduce_sum(mask)\n",
    "    \n",
    "    \n",
    "    @staticmethod\n",
    "    def create_padding_mask(seq):\n",
    "        seq = tf.cast(tf.math.equal(seq, 0), tf.float32)\n",
    "\n",
    "        # add extra dimensions to add the padding\n",
    "        # to the attention logits.\n",
    "        return seq[:, tf.newaxis, tf.newaxis, :]  # (batch_size, 1, 1, seq_len)\n",
    "\n",
    "    @staticmethod\n",
    "    def create_look_ahead_mask(size):\n",
    "        mask = 1 - tf.linalg.band_part(tf.ones((size, size)), -1, 0)\n",
    "        return mask  # (seq_len, seq_len)"
   ]
  },
  {
   "cell_type": "markdown",
   "id": "5ecf94ca",
   "metadata": {},
   "source": [
    "# Data"
   ]
  },
  {
   "cell_type": "code",
   "execution_count": 9,
   "id": "1b066d26",
   "metadata": {},
   "outputs": [],
   "source": [
    "import tensorflow_text as text"
   ]
  },
  {
   "cell_type": "code",
   "execution_count": 10,
   "id": "006e34fd",
   "metadata": {},
   "outputs": [],
   "source": [
    "bert_tokenizer_params=dict(lower_case=True)\n",
    "reserved_tokens=[\"[PAD]\", \"[UNK]\", \"[START]\", \"[END]\"]"
   ]
  },
  {
   "cell_type": "code",
   "execution_count": 11,
   "id": "839e0d7b",
   "metadata": {},
   "outputs": [],
   "source": [
    "bert_vocab_args = dict(\n",
    "    # The target vocabulary size\n",
    "    vocab_size = 400,\n",
    "    # Reserved tokens that must be included in the vocabulary\n",
    "    reserved_tokens=reserved_tokens,\n",
    "    # Arguments for `text.BertTokenizer`\n",
    "    bert_tokenizer_params=bert_tokenizer_params,\n",
    "    # Arguments for `wordpiece_vocab.wordpiece_tokenizer_learner_lib.learn`\n",
    "    learn_params={},\n",
    ")"
   ]
  },
  {
   "cell_type": "code",
   "execution_count": 12,
   "id": "0294c9c6",
   "metadata": {},
   "outputs": [
    {
     "name": "stderr",
     "output_type": "stream",
     "text": [
      "2021-10-27 14:26:49.588149: I tensorflow/stream_executor/platform/default/dso_loader.cc:53] Successfully opened dynamic library libcuda.so.1\n",
      "2021-10-27 14:26:49.621441: I tensorflow/stream_executor/cuda/cuda_gpu_executor.cc:937] successful NUMA node read from SysFS had negative value (-1), but there must be at least one NUMA node, so returning NUMA node zero\n",
      "2021-10-27 14:26:49.621963: I tensorflow/core/common_runtime/gpu/gpu_device.cc:1733] Found device 0 with properties: \n",
      "pciBusID: 0000:01:00.0 name: GeForce GTX 1080 computeCapability: 6.1\n",
      "coreClock: 1.7335GHz coreCount: 20 deviceMemorySize: 7.92GiB deviceMemoryBandwidth: 298.32GiB/s\n",
      "2021-10-27 14:26:49.621996: I tensorflow/stream_executor/platform/default/dso_loader.cc:53] Successfully opened dynamic library libcudart.so.11.0\n",
      "2021-10-27 14:26:49.632147: I tensorflow/stream_executor/platform/default/dso_loader.cc:53] Successfully opened dynamic library libcublas.so.11\n",
      "2021-10-27 14:26:49.632222: I tensorflow/stream_executor/platform/default/dso_loader.cc:53] Successfully opened dynamic library libcublasLt.so.11\n",
      "2021-10-27 14:26:49.634441: I tensorflow/stream_executor/platform/default/dso_loader.cc:53] Successfully opened dynamic library libcufft.so.10\n",
      "2021-10-27 14:26:49.636983: I tensorflow/stream_executor/platform/default/dso_loader.cc:53] Successfully opened dynamic library libcurand.so.10\n",
      "2021-10-27 14:26:49.638965: I tensorflow/stream_executor/platform/default/dso_loader.cc:53] Successfully opened dynamic library libcusolver.so.11\n",
      "2021-10-27 14:26:49.641408: I tensorflow/stream_executor/platform/default/dso_loader.cc:53] Successfully opened dynamic library libcusparse.so.11\n",
      "2021-10-27 14:26:49.642435: I tensorflow/stream_executor/platform/default/dso_loader.cc:53] Successfully opened dynamic library libcudnn.so.8\n",
      "2021-10-27 14:26:49.642565: I tensorflow/stream_executor/cuda/cuda_gpu_executor.cc:937] successful NUMA node read from SysFS had negative value (-1), but there must be at least one NUMA node, so returning NUMA node zero\n",
      "2021-10-27 14:26:49.643137: I tensorflow/stream_executor/cuda/cuda_gpu_executor.cc:937] successful NUMA node read from SysFS had negative value (-1), but there must be at least one NUMA node, so returning NUMA node zero\n",
      "2021-10-27 14:26:49.643594: I tensorflow/core/common_runtime/gpu/gpu_device.cc:1871] Adding visible gpu devices: 0\n",
      "2021-10-27 14:26:49.644118: I tensorflow/core/platform/cpu_feature_guard.cc:142] This TensorFlow binary is optimized with oneAPI Deep Neural Network Library (oneDNN) to use the following CPU instructions in performance-critical operations:  AVX2 FMA\n",
      "To enable them in other operations, rebuild TensorFlow with the appropriate compiler flags.\n",
      "2021-10-27 14:26:49.644701: I tensorflow/stream_executor/cuda/cuda_gpu_executor.cc:937] successful NUMA node read from SysFS had negative value (-1), but there must be at least one NUMA node, so returning NUMA node zero\n",
      "2021-10-27 14:26:49.645180: I tensorflow/core/common_runtime/gpu/gpu_device.cc:1733] Found device 0 with properties: \n",
      "pciBusID: 0000:01:00.0 name: GeForce GTX 1080 computeCapability: 6.1\n",
      "coreClock: 1.7335GHz coreCount: 20 deviceMemorySize: 7.92GiB deviceMemoryBandwidth: 298.32GiB/s\n",
      "2021-10-27 14:26:49.645266: I tensorflow/stream_executor/cuda/cuda_gpu_executor.cc:937] successful NUMA node read from SysFS had negative value (-1), but there must be at least one NUMA node, so returning NUMA node zero\n",
      "2021-10-27 14:26:49.645766: I tensorflow/stream_executor/cuda/cuda_gpu_executor.cc:937] successful NUMA node read from SysFS had negative value (-1), but there must be at least one NUMA node, so returning NUMA node zero\n",
      "2021-10-27 14:26:49.646208: I tensorflow/core/common_runtime/gpu/gpu_device.cc:1871] Adding visible gpu devices: 0\n",
      "2021-10-27 14:26:49.646248: I tensorflow/stream_executor/platform/default/dso_loader.cc:53] Successfully opened dynamic library libcudart.so.11.0\n",
      "2021-10-27 14:26:49.994693: I tensorflow/core/common_runtime/gpu/gpu_device.cc:1258] Device interconnect StreamExecutor with strength 1 edge matrix:\n",
      "2021-10-27 14:26:49.994728: I tensorflow/core/common_runtime/gpu/gpu_device.cc:1264]      0 \n",
      "2021-10-27 14:26:49.994733: I tensorflow/core/common_runtime/gpu/gpu_device.cc:1277] 0:   N \n",
      "2021-10-27 14:26:49.994843: I tensorflow/stream_executor/cuda/cuda_gpu_executor.cc:937] successful NUMA node read from SysFS had negative value (-1), but there must be at least one NUMA node, so returning NUMA node zero\n",
      "2021-10-27 14:26:49.995123: I tensorflow/stream_executor/cuda/cuda_gpu_executor.cc:937] successful NUMA node read from SysFS had negative value (-1), but there must be at least one NUMA node, so returning NUMA node zero\n",
      "2021-10-27 14:26:49.995375: I tensorflow/stream_executor/cuda/cuda_gpu_executor.cc:937] successful NUMA node read from SysFS had negative value (-1), but there must be at least one NUMA node, so returning NUMA node zero\n",
      "2021-10-27 14:26:49.995612: I tensorflow/core/common_runtime/gpu/gpu_device.cc:1418] Created TensorFlow device (/job:localhost/replica:0/task:0/device:GPU:0 with 6722 MB memory) -> physical GPU (device: 0, name: GeForce GTX 1080, pci bus id: 0000:01:00.0, compute capability: 6.1)\n"
     ]
    }
   ],
   "source": [
    "tokenizer = text.BertTokenizer('./annotations_vocab.txt', **bert_tokenizer_params)"
   ]
  },
  {
   "cell_type": "code",
   "execution_count": 13,
   "id": "b586a447",
   "metadata": {},
   "outputs": [],
   "source": [
    "START = tf.convert_to_tensor(2, dtype=tf.int64)\n",
    "END = tf.convert_to_tensor(3, dtype=tf.int64)\n",
    "\n",
    "def add_start_end(ragged_tensor):\n",
    "    count = ragged_tensor.bounding_shape()[0]\n",
    "    starts = tf.fill([count, 1], START)\n",
    "    ends = tf.fill([count, 1], END)\n",
    "    return tf.concat([starts, ragged_tensor, ends], axis=1)"
   ]
  },
  {
   "cell_type": "code",
   "execution_count": 14,
   "id": "9354f9b4",
   "metadata": {},
   "outputs": [],
   "source": [
    "import os\n",
    "\n",
    "def create_dataset(file_names, code_directory, annotation_directory, batch_size):\n",
    "    \"\"\"\n",
    "    Creates a tf.dataset generator for both image codes and annotations.\n",
    "    \"\"\"\n",
    "    AUTOTUNE = tf.data.experimental.AUTOTUNE\n",
    "\n",
    "    def get_annotation(fname):\n",
    "        \"\"\"\n",
    "        dataset.map function\n",
    "        \"\"\"\n",
    "        def parse_text_and_codes(filename):\n",
    "            \"\"\"\n",
    "            Gets the text and codes for a filename\n",
    "            \"\"\"\n",
    "            # Get code\n",
    "            fnames = filename.numpy()\n",
    "            codes = []\n",
    "            for fname in fnames:\n",
    "                fname = fname.decode()\n",
    "                filename_code = os.path.join(code_directory, fname)\n",
    "                code = np.ravel(np.load(filename_code))\n",
    "                codes.append(code)\n",
    "\n",
    "            # Get string\n",
    "            strings = []\n",
    "            for fname in fnames:\n",
    "                fname = fname.decode()\n",
    "                if \"_lr\" in fname:\n",
    "                    fname = fname.replace(\"_lr\", \"\")\n",
    "                filename_string = os.path.join(annotation_directory, fname)\n",
    "                string = np.load(filename_string)\n",
    "                strings.append(string)\n",
    "\n",
    "            return strings, codes\n",
    "\n",
    "\n",
    "        string, code = tf.py_function(parse_text_and_codes, [fname], [tf.string, tf.int64])\n",
    "\n",
    "        string = tokenizer.tokenize(string)\n",
    "        string = string.merge_dims(-2,-1)\n",
    "        # Add start and end\n",
    "        string = add_start_end(string)\n",
    "        # Convert from ragged to dense, padding with zeros.\n",
    "        string = string.to_tensor()\n",
    "\n",
    "        # ! --- Fixes a keras.model.fit bug --- !\n",
    "        string.set_shape([None for _ in range(2)])\n",
    "        code.set_shape([None for _ in range(2)])\n",
    "\n",
    "        return code, string\n",
    "    \n",
    "    n = len(file_names)\n",
    "    data_gen = tf.data.Dataset.from_tensor_slices(file_names)\n",
    "    data_gen = data_gen.batch(batch_size)\n",
    "    data_gen = data_gen.map(get_annotation, num_parallel_calls=AUTOTUNE)\n",
    "    data_gen = data_gen.shuffle(buffer_size=256)\n",
    "    data_gen = data_gen.prefetch(AUTOTUNE)\n",
    "    data_gen = data_gen.repeat()\n",
    "    \n",
    "    return data_gen, n"
   ]
  },
  {
   "cell_type": "code",
   "execution_count": 15,
   "id": "5f79fcef",
   "metadata": {},
   "outputs": [],
   "source": [
    "BATCH_SIZE = 12\n",
    "TRAIN_DIR = \"/home/simon/Desktop/Project3/representations/train_codes\"\n",
    "VAL_DIR = \"/home/simon/Desktop/Project3/representations/validation_codes\"\n",
    "TEST_DIR = \"/home/simon/Desktop/Project3/representations/test_codes\"\n",
    "ANNOTATION_DIR = \"/home/simon/Documents/Programming/Project3/annotations_trimmed\"\n",
    "\n",
    "train_files = os.listdir(TRAIN_DIR)\n",
    "val_files = os.listdir(VAL_DIR)\n",
    "test_files = os.listdir(TEST_DIR)"
   ]
  },
  {
   "cell_type": "code",
   "execution_count": 16,
   "id": "e8005663",
   "metadata": {},
   "outputs": [],
   "source": [
    "train_files = [t for t in train_files if \"21H\" not in t]"
   ]
  },
  {
   "cell_type": "code",
   "execution_count": 17,
   "id": "f113933f",
   "metadata": {},
   "outputs": [],
   "source": [
    "train_gen, N = create_dataset(file_names=train_files,\n",
    "                              code_directory=TRAIN_DIR,\n",
    "                              annotation_directory=ANNOTATION_DIR,\n",
    "                              batch_size=BATCH_SIZE)"
   ]
  },
  {
   "cell_type": "code",
   "execution_count": 18,
   "id": "588abb51",
   "metadata": {},
   "outputs": [],
   "source": [
    "val_gen, VN = create_dataset(file_names=val_files,\n",
    "                              code_directory=VAL_DIR,\n",
    "                              annotation_directory=ANNOTATION_DIR,\n",
    "                              batch_size=BATCH_SIZE)"
   ]
  },
  {
   "cell_type": "code",
   "execution_count": 19,
   "id": "589e8dfc",
   "metadata": {},
   "outputs": [],
   "source": [
    "test_gen, TN = create_dataset(file_names=test_files,\n",
    "                              code_directory=TEST_DIR,\n",
    "                              annotation_directory=ANNOTATION_DIR,\n",
    "                              batch_size=1)"
   ]
  },
  {
   "cell_type": "code",
   "execution_count": 20,
   "id": "ced38b10",
   "metadata": {},
   "outputs": [
    {
     "name": "stderr",
     "output_type": "stream",
     "text": [
      "2021-10-27 14:26:54.537585: I tensorflow/compiler/mlir/mlir_graph_optimization_pass.cc:176] None of the MLIR Optimization Passes are enabled (registered 2)\n",
      "2021-10-27 14:26:54.567002: I tensorflow/core/platform/profile_utils/cpu_utils.cc:114] CPU Frequency: 3099995000 Hz\n"
     ]
    }
   ],
   "source": [
    "for batch in train_gen:\n",
    "    break"
   ]
  },
  {
   "cell_type": "code",
   "execution_count": 21,
   "id": "3459ad0f",
   "metadata": {},
   "outputs": [],
   "source": [
    "x, y = batch"
   ]
  },
  {
   "cell_type": "code",
   "execution_count": 22,
   "id": "c822bea4",
   "metadata": {},
   "outputs": [
    {
     "data": {
      "text/plain": [
       "TensorShape([12, 23])"
      ]
     },
     "execution_count": 22,
     "metadata": {},
     "output_type": "execute_result"
    }
   ],
   "source": [
    "y.shape"
   ]
  },
  {
   "cell_type": "markdown",
   "id": "a47bf996",
   "metadata": {},
   "source": [
    "# Training"
   ]
  },
  {
   "cell_type": "code",
   "execution_count": 69,
   "id": "66dc4c80",
   "metadata": {},
   "outputs": [],
   "source": [
    "checkpoint = tf.keras.callbacks.ModelCheckpoint(\n",
    "        filepath=\"./transformer_weights/weights-{epoch:02d}-{val_acc:.2f}.h5\",\n",
    "        monitor=\"val_acc\",\n",
    "        verbose=1,\n",
    "        save_best_only=True,\n",
    "        save_weights_only=True,\n",
    "        mode=\"auto\",\n",
    "        save_freq=\"epoch\",\n",
    "    )"
   ]
  },
  {
   "cell_type": "code",
   "execution_count": 70,
   "id": "b69b7e77",
   "metadata": {},
   "outputs": [],
   "source": [
    "transformer = Transformer(\n",
    "                    num_layers=4,\n",
    "                    d_model=16,\n",
    "                    num_heads=1,\n",
    "                    dff=16,\n",
    "                    input_vocab_size=2048,\n",
    "                    target_vocab_size=250,\n",
    "                    pe_input=256,\n",
    "                    pe_target=100,\n",
    "                    rate=0.1\n",
    "                )"
   ]
  },
  {
   "cell_type": "code",
   "execution_count": 71,
   "id": "7b81b5d7",
   "metadata": {},
   "outputs": [
    {
     "name": "stdout",
     "output_type": "stream",
     "text": [
      "Model: \"transformer_3\"\n",
      "_________________________________________________________________\n",
      "Layer (type)                 Output Shape              Param #   \n",
      "=================================================================\n",
      "encoder_3 (Encoder)          multiple                  39552     \n",
      "_________________________________________________________________\n",
      "decoder_3 (Decoder)          multiple                  15264     \n",
      "_________________________________________________________________\n",
      "predictions (Dense)          multiple                  4250      \n",
      "=================================================================\n",
      "Total params: 59,066\n",
      "Trainable params: 59,066\n",
      "Non-trainable params: 0\n",
      "_________________________________________________________________\n"
     ]
    }
   ],
   "source": [
    "_ = transformer(batch)\n",
    "\n",
    "transformer.summary()"
   ]
  },
  {
   "cell_type": "code",
   "execution_count": 72,
   "id": "927ebbdf",
   "metadata": {},
   "outputs": [],
   "source": [
    "transformer.compile(optimizer=tf.keras.optimizers.Adam(0.001))"
   ]
  },
  {
   "cell_type": "code",
   "execution_count": 73,
   "id": "c56f76a7",
   "metadata": {},
   "outputs": [
    {
     "name": "stdout",
     "output_type": "stream",
     "text": [
      "Epoch 1/50\n",
      "964/964 [==============================] - 38s 29ms/step - loss: 2.2648 - acc: 0.5771 - val_loss: 0.2558 - val_acc: 0.9046\n",
      "\n",
      "Epoch 00001: val_acc improved from -inf to 0.90458, saving model to ./transformer_weights/weights-01-0.90.h5\n",
      "Epoch 2/50\n",
      "964/964 [==============================] - 29s 30ms/step - loss: 0.2261 - acc: 0.9214 - val_loss: 0.1788 - val_acc: 0.9246\n",
      "\n",
      "Epoch 00002: val_acc improved from 0.90458 to 0.92460, saving model to ./transformer_weights/weights-02-0.92.h5\n",
      "Epoch 3/50\n",
      "964/964 [==============================] - 29s 30ms/step - loss: 0.1871 - acc: 0.9289 - val_loss: 0.2167 - val_acc: 0.9288\n",
      "\n",
      "Epoch 00003: val_acc improved from 0.92460 to 0.92884, saving model to ./transformer_weights/weights-03-0.93.h5\n",
      "Epoch 4/50\n",
      "964/964 [==============================] - 28s 29ms/step - loss: 0.1728 - acc: 0.9337 - val_loss: 0.1981 - val_acc: 0.9062\n",
      "\n",
      "Epoch 00004: val_acc did not improve from 0.92884\n",
      "Epoch 5/50\n",
      "964/964 [==============================] - 28s 29ms/step - loss: 0.1636 - acc: 0.9363 - val_loss: 0.2089 - val_acc: 0.9170\n",
      "\n",
      "Epoch 00005: val_acc did not improve from 0.92884\n",
      "Epoch 6/50\n",
      "964/964 [==============================] - 29s 30ms/step - loss: 0.1583 - acc: 0.9388 - val_loss: 0.1768 - val_acc: 0.9237\n",
      "\n",
      "Epoch 00006: val_acc did not improve from 0.92884\n",
      "Epoch 7/50\n",
      "964/964 [==============================] - 29s 30ms/step - loss: 0.1529 - acc: 0.9409 - val_loss: 0.1961 - val_acc: 0.9400\n",
      "\n",
      "Epoch 00007: val_acc improved from 0.92884 to 0.94000, saving model to ./transformer_weights/weights-07-0.94.h5\n",
      "Epoch 8/50\n",
      "964/964 [==============================] - 29s 30ms/step - loss: 0.1477 - acc: 0.9418 - val_loss: 0.1992 - val_acc: 0.9249\n",
      "\n",
      "Epoch 00008: val_acc did not improve from 0.94000\n",
      "Epoch 9/50\n",
      "964/964 [==============================] - 28s 29ms/step - loss: 0.1476 - acc: 0.9416 - val_loss: 0.1337 - val_acc: 0.9574\n",
      "\n",
      "Epoch 00009: val_acc improved from 0.94000 to 0.95736, saving model to ./transformer_weights/weights-09-0.96.h5\n",
      "Epoch 10/50\n",
      "964/964 [==============================] - 29s 30ms/step - loss: 0.1420 - acc: 0.9438 - val_loss: 0.1941 - val_acc: 0.9294\n",
      "\n",
      "Epoch 00010: val_acc did not improve from 0.95736\n",
      "Epoch 11/50\n",
      "964/964 [==============================] - 28s 29ms/step - loss: 0.1400 - acc: 0.9449 - val_loss: 0.2352 - val_acc: 0.9091\n",
      "\n",
      "Epoch 00011: val_acc did not improve from 0.95736\n",
      "Epoch 12/50\n",
      "964/964 [==============================] - 28s 29ms/step - loss: 0.1395 - acc: 0.9447 - val_loss: 0.2499 - val_acc: 0.9180\n",
      "\n",
      "Epoch 00012: val_acc did not improve from 0.95736\n",
      "Epoch 13/50\n",
      "964/964 [==============================] - 28s 29ms/step - loss: 0.1381 - acc: 0.9448 - val_loss: 0.2049 - val_acc: 0.9160\n",
      "\n",
      "Epoch 00013: val_acc did not improve from 0.95736\n",
      "Epoch 14/50\n",
      "964/964 [==============================] - 29s 30ms/step - loss: 0.1355 - acc: 0.9461 - val_loss: 0.2285 - val_acc: 0.9064\n",
      "\n",
      "Epoch 00014: val_acc did not improve from 0.95736\n",
      "Epoch 15/50\n",
      "964/964 [==============================] - 28s 29ms/step - loss: 0.1357 - acc: 0.9465 - val_loss: 0.1767 - val_acc: 0.9438\n",
      "\n",
      "Epoch 00015: val_acc did not improve from 0.95736\n",
      "Epoch 16/50\n",
      "964/964 [==============================] - 28s 29ms/step - loss: 0.1319 - acc: 0.9480 - val_loss: 0.2274 - val_acc: 0.9297\n",
      "\n",
      "Epoch 00016: val_acc did not improve from 0.95736\n",
      "Epoch 17/50\n",
      "964/964 [==============================] - 28s 29ms/step - loss: 0.1326 - acc: 0.9475 - val_loss: 0.2515 - val_acc: 0.9170\n",
      "\n",
      "Epoch 00017: val_acc did not improve from 0.95736\n",
      "Epoch 18/50\n",
      "964/964 [==============================] - 28s 29ms/step - loss: 0.1297 - acc: 0.9482 - val_loss: 0.1864 - val_acc: 0.9130\n",
      "\n",
      "Epoch 00018: val_acc did not improve from 0.95736\n",
      "Epoch 19/50\n",
      "964/964 [==============================] - 28s 29ms/step - loss: 0.1285 - acc: 0.9487 - val_loss: 0.1757 - val_acc: 0.9373\n",
      "\n",
      "Epoch 00019: val_acc did not improve from 0.95736\n",
      "Epoch 20/50\n",
      "964/964 [==============================] - 29s 30ms/step - loss: 0.1286 - acc: 0.9489 - val_loss: 0.1498 - val_acc: 0.9484\n",
      "\n",
      "Epoch 00020: val_acc did not improve from 0.95736\n",
      "Epoch 21/50\n",
      "964/964 [==============================] - 29s 30ms/step - loss: 0.1277 - acc: 0.9496 - val_loss: 0.2192 - val_acc: 0.9101\n",
      "\n",
      "Epoch 00021: val_acc did not improve from 0.95736\n",
      "Epoch 22/50\n",
      "964/964 [==============================] - 29s 30ms/step - loss: 0.1267 - acc: 0.9495 - val_loss: 0.1424 - val_acc: 0.9462\n",
      "\n",
      "Epoch 00022: val_acc did not improve from 0.95736\n",
      "Epoch 23/50\n",
      "964/964 [==============================] - 29s 30ms/step - loss: 0.1275 - acc: 0.9494 - val_loss: 0.2111 - val_acc: 0.9203\n",
      "\n",
      "Epoch 00023: val_acc did not improve from 0.95736\n",
      "Epoch 24/50\n",
      "964/964 [==============================] - 29s 30ms/step - loss: 0.1261 - acc: 0.9496 - val_loss: 0.1384 - val_acc: 0.9496\n",
      "\n",
      "Epoch 00024: val_acc did not improve from 0.95736\n",
      "Epoch 25/50\n",
      "964/964 [==============================] - 29s 30ms/step - loss: 0.1243 - acc: 0.9506 - val_loss: 0.1697 - val_acc: 0.9355\n",
      "\n",
      "Epoch 00025: val_acc did not improve from 0.95736\n",
      "Epoch 26/50\n",
      "964/964 [==============================] - 29s 30ms/step - loss: 0.1249 - acc: 0.9503 - val_loss: 0.0876 - val_acc: 0.9615\n",
      "\n",
      "Epoch 00026: val_acc improved from 0.95736 to 0.96154, saving model to ./transformer_weights/weights-26-0.96.h5\n",
      "Epoch 27/50\n",
      "964/964 [==============================] - 29s 30ms/step - loss: 0.1217 - acc: 0.9516 - val_loss: 0.1437 - val_acc: 0.9567\n",
      "\n",
      "Epoch 00027: val_acc did not improve from 0.96154\n",
      "Epoch 28/50\n",
      "964/964 [==============================] - 29s 30ms/step - loss: 0.1235 - acc: 0.9501 - val_loss: 0.2539 - val_acc: 0.9234\n",
      "\n",
      "Epoch 00028: val_acc did not improve from 0.96154\n",
      "Epoch 29/50\n",
      "964/964 [==============================] - 27s 29ms/step - loss: 0.1213 - acc: 0.9522 - val_loss: 0.1338 - val_acc: 0.9526\n",
      "\n",
      "Epoch 00029: val_acc did not improve from 0.96154\n",
      "Epoch 30/50\n",
      "964/964 [==============================] - 29s 30ms/step - loss: 0.1215 - acc: 0.9519 - val_loss: 0.2395 - val_acc: 0.9055\n",
      "\n",
      "Epoch 00030: val_acc did not improve from 0.96154\n",
      "Epoch 31/50\n",
      "964/964 [==============================] - 29s 30ms/step - loss: 0.1201 - acc: 0.9531 - val_loss: 0.2024 - val_acc: 0.9129\n",
      "\n",
      "Epoch 00031: val_acc did not improve from 0.96154\n",
      "Epoch 32/50\n",
      "964/964 [==============================] - 28s 29ms/step - loss: 0.1196 - acc: 0.9528 - val_loss: 0.1971 - val_acc: 0.9480\n",
      "\n",
      "Epoch 00032: val_acc did not improve from 0.96154\n",
      "Epoch 33/50\n",
      "964/964 [==============================] - 28s 29ms/step - loss: 0.1203 - acc: 0.9523 - val_loss: 0.2139 - val_acc: 0.9216\n",
      "\n",
      "Epoch 00033: val_acc did not improve from 0.96154\n",
      "Epoch 34/50\n",
      "964/964 [==============================] - 28s 29ms/step - loss: 0.1194 - acc: 0.9526 - val_loss: 0.2652 - val_acc: 0.9109\n",
      "\n",
      "Epoch 00034: val_acc did not improve from 0.96154\n",
      "Epoch 35/50\n",
      "964/964 [==============================] - 28s 29ms/step - loss: 0.1171 - acc: 0.9535 - val_loss: 0.1543 - val_acc: 0.9412\n",
      "\n",
      "Epoch 00035: val_acc did not improve from 0.96154\n",
      "Epoch 36/50\n",
      "964/964 [==============================] - 28s 30ms/step - loss: 0.1166 - acc: 0.9536 - val_loss: 0.1241 - val_acc: 0.9407\n",
      "\n",
      "Epoch 00036: val_acc did not improve from 0.96154\n",
      "Epoch 37/50\n",
      "964/964 [==============================] - 29s 30ms/step - loss: 0.1165 - acc: 0.9540 - val_loss: 0.2228 - val_acc: 0.8977\n",
      "\n",
      "Epoch 00037: val_acc did not improve from 0.96154\n",
      "Epoch 38/50\n",
      "964/964 [==============================] - 29s 30ms/step - loss: 0.1175 - acc: 0.9532 - val_loss: 0.2040 - val_acc: 0.9307\n",
      "\n",
      "Epoch 00038: val_acc did not improve from 0.96154\n",
      "Epoch 39/50\n",
      "964/964 [==============================] - 28s 29ms/step - loss: 0.1162 - acc: 0.9538 - val_loss: 0.1855 - val_acc: 0.9246\n",
      "\n",
      "Epoch 00039: val_acc did not improve from 0.96154\n",
      "Epoch 40/50\n",
      "964/964 [==============================] - 29s 30ms/step - loss: 0.1159 - acc: 0.9537 - val_loss: 0.1784 - val_acc: 0.9398\n",
      "\n",
      "Epoch 00040: val_acc did not improve from 0.96154\n",
      "Epoch 41/50\n",
      "964/964 [==============================] - 28s 30ms/step - loss: 0.1155 - acc: 0.9541 - val_loss: 0.2684 - val_acc: 0.9023\n",
      "\n",
      "Epoch 00041: val_acc did not improve from 0.96154\n",
      "Epoch 42/50\n",
      "964/964 [==============================] - 28s 29ms/step - loss: 0.1142 - acc: 0.9548 - val_loss: 0.2102 - val_acc: 0.9144\n",
      "\n",
      "Epoch 00042: val_acc did not improve from 0.96154\n",
      "Epoch 43/50\n",
      "964/964 [==============================] - 28s 29ms/step - loss: 0.1131 - acc: 0.9550 - val_loss: 0.1883 - val_acc: 0.9144\n",
      "\n",
      "Epoch 00043: val_acc did not improve from 0.96154\n",
      "Epoch 44/50\n",
      "964/964 [==============================] - 29s 30ms/step - loss: 0.1148 - acc: 0.9543 - val_loss: 0.1420 - val_acc: 0.9482\n",
      "\n",
      "Epoch 00044: val_acc did not improve from 0.96154\n",
      "Epoch 45/50\n",
      "964/964 [==============================] - 28s 29ms/step - loss: 0.1139 - acc: 0.9548 - val_loss: 0.1374 - val_acc: 0.9400\n",
      "\n",
      "Epoch 00045: val_acc did not improve from 0.96154\n",
      "Epoch 46/50\n",
      "964/964 [==============================] - 28s 30ms/step - loss: 0.1136 - acc: 0.9552 - val_loss: 0.2543 - val_acc: 0.9216\n",
      "\n",
      "Epoch 00046: val_acc did not improve from 0.96154\n",
      "Epoch 47/50\n",
      "964/964 [==============================] - 28s 29ms/step - loss: 0.1132 - acc: 0.9551 - val_loss: 0.1588 - val_acc: 0.9609\n",
      "\n",
      "Epoch 00047: val_acc did not improve from 0.96154\n",
      "Epoch 48/50\n",
      "964/964 [==============================] - 29s 30ms/step - loss: 0.1136 - acc: 0.9556 - val_loss: 0.1148 - val_acc: 0.9423\n",
      "\n",
      "Epoch 00048: val_acc did not improve from 0.96154\n",
      "Epoch 49/50\n",
      "964/964 [==============================] - 28s 29ms/step - loss: 0.1129 - acc: 0.9546 - val_loss: 0.1788 - val_acc: 0.9558\n",
      "\n",
      "Epoch 00049: val_acc did not improve from 0.96154\n",
      "Epoch 50/50\n",
      "964/964 [==============================] - 28s 29ms/step - loss: 0.1136 - acc: 0.9550 - val_loss: 0.2086 - val_acc: 0.9144\n",
      "\n",
      "Epoch 00050: val_acc did not improve from 0.96154\n"
     ]
    }
   ],
   "source": [
    "history = transformer.fit(train_gen,\n",
    "                epochs=50,\n",
    "                steps_per_epoch=N // BATCH_SIZE,\n",
    "                validation_data=val_gen,\n",
    "                validation_steps=VN // BATCH_SIZE,\n",
    "                callbacks=[checkpoint]\n",
    "             )"
   ]
  },
  {
   "cell_type": "code",
   "execution_count": 74,
   "id": "ae6fa6fe",
   "metadata": {},
   "outputs": [],
   "source": [
    "# 96.34% VAL"
   ]
  },
  {
   "cell_type": "code",
   "execution_count": 75,
   "id": "a1b85429",
   "metadata": {},
   "outputs": [],
   "source": [
    "history = transformer.history"
   ]
  },
  {
   "cell_type": "code",
   "execution_count": 76,
   "id": "72a43a2c",
   "metadata": {},
   "outputs": [
    {
     "data": {
      "image/png": "[encoded data removed]",
      "text/plain": [
       "<Figure size 864x288 with 2 Axes>"
      ]
     },
     "metadata": {
      "needs_background": "light"
     },
     "output_type": "display_data"
    }
   ],
   "source": [
    "fig, ax = plt.subplots(1, 2, figsize=(12, 4) )\n",
    "for k in [\"loss\", \"val_loss\"]:\n",
    "    y = history.history[k]\n",
    "    x = range(len(y))\n",
    "    ax[0].plot(x, y, label=k)\n",
    "    \n",
    "ax[0].set_xlabel(\"Epochs\")\n",
    "ax[0].set_ylabel(\"Loss\")\n",
    "ax[0].grid()\n",
    "    \n",
    "for k in [\"acc\", \"val_acc\"]:\n",
    "    y = history.history[k]\n",
    "    x = range(len(y))\n",
    "    ax[1].plot(x, y, label=k)\n",
    "ax[1].set_xlabel(\"Epochs\")\n",
    "ax[1].set_ylabel(\"Acc\")\n",
    "ax[1].grid()\n",
    "\n",
    "plt.show()\n"
   ]
  },
  {
   "cell_type": "code",
   "execution_count": 77,
   "id": "2548d56c",
   "metadata": {},
   "outputs": [
    {
     "name": "stdout",
     "output_type": "stream",
     "text": [
      "230/230 [==============================] - 5s 12ms/step - loss: 0.2060 - acc: 0.9278\n"
     ]
    }
   ],
   "source": [
    "val = transformer.evaluate(val_gen, steps=VN // BATCH_SIZE)"
   ]
  },
  {
   "cell_type": "code",
   "execution_count": 78,
   "id": "285bd5b5",
   "metadata": {},
   "outputs": [
    {
     "name": "stdout",
     "output_type": "stream",
     "text": [
      "218/218 [==============================] - 3s 11ms/step - loss: 0.2156 - acc: 0.9242\n"
     ]
    }
   ],
   "source": [
    "test = transformer.evaluate(test_gen, steps=TN // BATCH_SIZE)"
   ]
  },
  {
   "cell_type": "code",
   "execution_count": 54,
   "id": "94fc3e33",
   "metadata": {},
   "outputs": [
    {
     "ename": "OSError",
     "evalue": "Unable to open file (file signature not found)",
     "output_type": "error",
     "traceback": [
      "\u001b[0;31m---------------------------------------------------------------------------\u001b[0m",
      "\u001b[0;31mOSError\u001b[0m                                   Traceback (most recent call last)",
      "\u001b[0;32m/tmp/ipykernel_31275/2464875661.py\u001b[0m in \u001b[0;36m<module>\u001b[0;34m\u001b[0m\n\u001b[0;32m----> 1\u001b[0;31m \u001b[0mtransformer\u001b[0m\u001b[0;34m.\u001b[0m\u001b[0mload_weights\u001b[0m\u001b[0;34m(\u001b[0m\u001b[0;34m\"./transformer_weights/checkpoint.h5\"\u001b[0m\u001b[0;34m)\u001b[0m\u001b[0;34m\u001b[0m\u001b[0;34m\u001b[0m\u001b[0m\n\u001b[0m",
      "\u001b[0;32m~/anaconda3/envs/tf2.5/lib/python3.7/site-packages/tensorflow/python/keras/engine/training.py\u001b[0m in \u001b[0;36mload_weights\u001b[0;34m(self, filepath, by_name, skip_mismatch, options)\u001b[0m\n\u001b[1;32m   2312\u001b[0m           'first, then load the weights.')\n\u001b[1;32m   2313\u001b[0m     \u001b[0mself\u001b[0m\u001b[0;34m.\u001b[0m\u001b[0m_assert_weights_created\u001b[0m\u001b[0;34m(\u001b[0m\u001b[0;34m)\u001b[0m\u001b[0;34m\u001b[0m\u001b[0;34m\u001b[0m\u001b[0m\n\u001b[0;32m-> 2314\u001b[0;31m     \u001b[0;32mwith\u001b[0m \u001b[0mh5py\u001b[0m\u001b[0;34m.\u001b[0m\u001b[0mFile\u001b[0m\u001b[0;34m(\u001b[0m\u001b[0mfilepath\u001b[0m\u001b[0;34m,\u001b[0m \u001b[0;34m'r'\u001b[0m\u001b[0;34m)\u001b[0m \u001b[0;32mas\u001b[0m \u001b[0mf\u001b[0m\u001b[0;34m:\u001b[0m\u001b[0;34m\u001b[0m\u001b[0;34m\u001b[0m\u001b[0m\n\u001b[0m\u001b[1;32m   2315\u001b[0m       \u001b[0;32mif\u001b[0m \u001b[0;34m'layer_names'\u001b[0m \u001b[0;32mnot\u001b[0m \u001b[0;32min\u001b[0m \u001b[0mf\u001b[0m\u001b[0;34m.\u001b[0m\u001b[0mattrs\u001b[0m \u001b[0;32mand\u001b[0m \u001b[0;34m'model_weights'\u001b[0m \u001b[0;32min\u001b[0m \u001b[0mf\u001b[0m\u001b[0;34m:\u001b[0m\u001b[0;34m\u001b[0m\u001b[0;34m\u001b[0m\u001b[0m\n\u001b[1;32m   2316\u001b[0m         \u001b[0mf\u001b[0m \u001b[0;34m=\u001b[0m \u001b[0mf\u001b[0m\u001b[0;34m[\u001b[0m\u001b[0;34m'model_weights'\u001b[0m\u001b[0;34m]\u001b[0m\u001b[0;34m\u001b[0m\u001b[0;34m\u001b[0m\u001b[0m\n",
      "\u001b[0;32m~/anaconda3/envs/tf2.5/lib/python3.7/site-packages/h5py/_hl/files.py\u001b[0m in \u001b[0;36m__init__\u001b[0;34m(self, name, mode, driver, libver, userblock_size, swmr, rdcc_nslots, rdcc_nbytes, rdcc_w0, track_order, fs_strategy, fs_persist, fs_threshold, **kwds)\u001b[0m\n\u001b[1;32m    425\u001b[0m                                fapl, fcpl=make_fcpl(track_order=track_order, fs_strategy=fs_strategy,\n\u001b[1;32m    426\u001b[0m                                fs_persist=fs_persist, fs_threshold=fs_threshold),\n\u001b[0;32m--> 427\u001b[0;31m                                swmr=swmr)\n\u001b[0m\u001b[1;32m    428\u001b[0m \u001b[0;34m\u001b[0m\u001b[0m\n\u001b[1;32m    429\u001b[0m             \u001b[0;32mif\u001b[0m \u001b[0misinstance\u001b[0m\u001b[0;34m(\u001b[0m\u001b[0mlibver\u001b[0m\u001b[0;34m,\u001b[0m \u001b[0mtuple\u001b[0m\u001b[0;34m)\u001b[0m\u001b[0;34m:\u001b[0m\u001b[0;34m\u001b[0m\u001b[0;34m\u001b[0m\u001b[0m\n",
      "\u001b[0;32m~/anaconda3/envs/tf2.5/lib/python3.7/site-packages/h5py/_hl/files.py\u001b[0m in \u001b[0;36mmake_fid\u001b[0;34m(name, mode, userblock_size, fapl, fcpl, swmr)\u001b[0m\n\u001b[1;32m    188\u001b[0m         \u001b[0;32mif\u001b[0m \u001b[0mswmr\u001b[0m \u001b[0;32mand\u001b[0m \u001b[0mswmr_support\u001b[0m\u001b[0;34m:\u001b[0m\u001b[0;34m\u001b[0m\u001b[0;34m\u001b[0m\u001b[0m\n\u001b[1;32m    189\u001b[0m             \u001b[0mflags\u001b[0m \u001b[0;34m|=\u001b[0m \u001b[0mh5f\u001b[0m\u001b[0;34m.\u001b[0m\u001b[0mACC_SWMR_READ\u001b[0m\u001b[0;34m\u001b[0m\u001b[0;34m\u001b[0m\u001b[0m\n\u001b[0;32m--> 190\u001b[0;31m         \u001b[0mfid\u001b[0m \u001b[0;34m=\u001b[0m \u001b[0mh5f\u001b[0m\u001b[0;34m.\u001b[0m\u001b[0mopen\u001b[0m\u001b[0;34m(\u001b[0m\u001b[0mname\u001b[0m\u001b[0;34m,\u001b[0m \u001b[0mflags\u001b[0m\u001b[0;34m,\u001b[0m \u001b[0mfapl\u001b[0m\u001b[0;34m=\u001b[0m\u001b[0mfapl\u001b[0m\u001b[0;34m)\u001b[0m\u001b[0;34m\u001b[0m\u001b[0;34m\u001b[0m\u001b[0m\n\u001b[0m\u001b[1;32m    191\u001b[0m     \u001b[0;32melif\u001b[0m \u001b[0mmode\u001b[0m \u001b[0;34m==\u001b[0m \u001b[0;34m'r+'\u001b[0m\u001b[0;34m:\u001b[0m\u001b[0;34m\u001b[0m\u001b[0;34m\u001b[0m\u001b[0m\n\u001b[1;32m    192\u001b[0m         \u001b[0mfid\u001b[0m \u001b[0;34m=\u001b[0m \u001b[0mh5f\u001b[0m\u001b[0;34m.\u001b[0m\u001b[0mopen\u001b[0m\u001b[0;34m(\u001b[0m\u001b[0mname\u001b[0m\u001b[0;34m,\u001b[0m \u001b[0mh5f\u001b[0m\u001b[0;34m.\u001b[0m\u001b[0mACC_RDWR\u001b[0m\u001b[0;34m,\u001b[0m \u001b[0mfapl\u001b[0m\u001b[0;34m=\u001b[0m\u001b[0mfapl\u001b[0m\u001b[0;34m)\u001b[0m\u001b[0;34m\u001b[0m\u001b[0;34m\u001b[0m\u001b[0m\n",
      "\u001b[0;32mh5py/_objects.pyx\u001b[0m in \u001b[0;36mh5py._objects.with_phil.wrapper\u001b[0;34m()\u001b[0m\n",
      "\u001b[0;32mh5py/_objects.pyx\u001b[0m in \u001b[0;36mh5py._objects.with_phil.wrapper\u001b[0;34m()\u001b[0m\n",
      "\u001b[0;32mh5py/h5f.pyx\u001b[0m in \u001b[0;36mh5py.h5f.open\u001b[0;34m()\u001b[0m\n",
      "\u001b[0;31mOSError\u001b[0m: Unable to open file (file signature not found)"
     ]
    }
   ],
   "source": [
    "transformer.load_weights(\"./transformer_weights/checkpoint.h5\")"
   ]
  },
  {
   "cell_type": "code",
   "execution_count": null,
   "id": "a63b2ea0",
   "metadata": {},
   "outputs": [],
   "source": []
  },
  {
   "cell_type": "code",
   "execution_count": 52,
   "id": "fccc0b5e",
   "metadata": {},
   "outputs": [
    {
     "data": {
      "text/plain": [
       "218"
      ]
     },
     "execution_count": 52,
     "metadata": {},
     "output_type": "execute_result"
    }
   ],
   "source": [
    "TN // BATCH_SIZE"
   ]
  },
  {
   "cell_type": "code",
   "execution_count": 336,
   "id": "5c25e691",
   "metadata": {},
   "outputs": [
    {
     "data": {
      "text/plain": [
       "12"
      ]
     },
     "execution_count": 336,
     "metadata": {},
     "output_type": "execute_result"
    }
   ],
   "source": [
    "BATCH_SIZE"
   ]
  },
  {
   "cell_type": "markdown",
   "id": "c721b723",
   "metadata": {},
   "source": [
    "# Decode Predictions"
   ]
  },
  {
   "cell_type": "code",
   "execution_count": 337,
   "id": "0f5e6d72",
   "metadata": {},
   "outputs": [],
   "source": [
    "for batch in val_gen:\n",
    "    break"
   ]
  },
  {
   "cell_type": "code",
   "execution_count": 338,
   "id": "96320c68",
   "metadata": {},
   "outputs": [],
   "source": [
    "indx   = 4\n",
    "x      = batch[0][indx][tf.newaxis]\n",
    "y_real = batch[1][indx][tf.newaxis]"
   ]
  },
  {
   "cell_type": "code",
   "execution_count": 339,
   "id": "78a45598",
   "metadata": {},
   "outputs": [
    {
     "data": {
      "text/plain": [
       "TensorShape([1, 256])"
      ]
     },
     "execution_count": 339,
     "metadata": {},
     "output_type": "execute_result"
    }
   ],
   "source": [
    "x.shape"
   ]
  },
  {
   "cell_type": "code",
   "execution_count": 340,
   "id": "5711cd14",
   "metadata": {},
   "outputs": [],
   "source": [
    "seq_pred, attn = transformer([x, y_real])"
   ]
  },
  {
   "cell_type": "code",
   "execution_count": 341,
   "id": "f2164406",
   "metadata": {},
   "outputs": [],
   "source": [
    "seq_pred = seq_pred[0].numpy()"
   ]
  },
  {
   "cell_type": "code",
   "execution_count": 342,
   "id": "760c199e",
   "metadata": {},
   "outputs": [],
   "source": [
    "seq = np.argmax(seq_pred, axis=-1)"
   ]
  },
  {
   "cell_type": "code",
   "execution_count": 343,
   "id": "6ef2bab0",
   "metadata": {},
   "outputs": [
    {
     "data": {
      "text/plain": [
       "(24,)"
      ]
     },
     "execution_count": 343,
     "metadata": {},
     "output_type": "execute_result"
    }
   ],
   "source": [
    "seq.shape"
   ]
  },
  {
   "cell_type": "code",
   "execution_count": 344,
   "id": "86afb737",
   "metadata": {},
   "outputs": [],
   "source": [
    "def cleanup_text(reserved_tokens, token_txt):\n",
    "    # Drop the reserved tokens, except for \"[UNK]\".\n",
    "    bad_tokens = [re.escape(tok) for tok in reserved_tokens if tok != \"[UNK]\"]\n",
    "    bad_token_re = \"|\".join(bad_tokens)\n",
    "\n",
    "    bad_cells = tf.strings.regex_full_match(token_txt, bad_token_re)\n",
    "    result = tf.ragged.boolean_mask(token_txt, ~bad_cells)\n",
    "\n",
    "    # Join them into strings.\n",
    "    result = tf.strings.reduce_join(result, separator=' ', axis=-1)[0]\n",
    "    \n",
    "    return result.numpy().decode()"
   ]
  },
  {
   "cell_type": "code",
   "execution_count": 345,
   "id": "6777500d",
   "metadata": {},
   "outputs": [],
   "source": [
    "i = np.where(seq == 3)[0][0] \n",
    "text = tokenizer.detokenize(tf.convert_to_tensor(seq[:i][np.newaxis]))\n",
    "result = cleanup_text(reserved_tokens, text)"
   ]
  },
  {
   "cell_type": "code",
   "execution_count": 346,
   "id": "e90e7ac6",
   "metadata": {},
   "outputs": [
    {
     "name": "stdout",
     "output_type": "stream",
     "text": [
      "the upper layer shows fragmented . the epidermis shows full dysplasia . the dermis appears normal .\n"
     ]
    }
   ],
   "source": [
    "print(result)"
   ]
  },
  {
   "cell_type": "code",
   "execution_count": 49,
   "id": "d7746bdc",
   "metadata": {},
   "outputs": [
    {
     "data": {
      "image/png": "[encoded data removed]",
      "text/plain": [
       "<Figure size 1728x288 with 1 Axes>"
      ]
     },
     "metadata": {
      "needs_background": "light"
     },
     "output_type": "display_data"
    }
   ],
   "source": [
    "attn_map = attn[\"decoder_layer4_block2\"][0][0]\n",
    "\n",
    "plt.figure(figsize=(24, 4))\n",
    "plt.imshow(attn_map)\n",
    "plt.show()"
   ]
  },
  {
   "cell_type": "markdown",
   "id": "14014406",
   "metadata": {},
   "source": [
    "# Generate From Scratch"
   ]
  },
  {
   "cell_type": "code",
   "execution_count": 669,
   "id": "7f63865a",
   "metadata": {},
   "outputs": [],
   "source": [
    "def sample_from(logits, top_k=10, temp=1.0):\n",
    "    logits, indices = tf.math.top_k(logits/temp, k=top_k, sorted=True)\n",
    "    indices = np.asarray(indices).astype(\"int32\")\n",
    "    preds = tf.keras.activations.softmax(tf.expand_dims(logits, 0))[0]\n",
    "    preds = np.asarray(preds).astype(\"float32\")\n",
    "    c = np.random.choice(indices, p=preds)\n",
    "    return c, indices, preds"
   ]
  },
  {
   "cell_type": "code",
   "execution_count": 680,
   "id": "6f12a4a3",
   "metadata": {},
   "outputs": [
    {
     "name": "stdout",
     "output_type": "stream",
     "text": [
      "[28  5] [9.9999976e-01 1.8444528e-07]\n",
      "[33 50] [1.0000000e+00 6.6900454e-09]\n",
      "[30 56] [9.999993e-01 7.250684e-07]\n",
      "[29 38] [9.9996483e-01 3.5202705e-05]\n",
      "[50 41] [0.9785348  0.02146517]\n",
      "[41 35] [0.94479924 0.05520073]\n",
      "[ 5 55] [9.9998736e-01 1.2583198e-05]\n",
      "[28 41] [1.000000e+00 2.130078e-08]\n",
      "[32 38] [9.9999833e-01 1.6426899e-06]\n",
      "[29 38] [9.9987376e-01 1.2621121e-04]\n",
      "[39 49] [0.8780572  0.12194284]\n",
      "[ 4 42] [9.9999976e-01 1.9976869e-07]\n",
      "[40 41] [9.9999928e-01 7.0439955e-07]\n",
      "[34 47] [1.0000000e+00 6.2109398e-09]\n",
      "[ 5 55] [9.9999034e-01 9.6330541e-06]\n",
      "[28  5] [1.0000000e+00 1.8722266e-08]\n",
      "[31 47] [9.999944e-01 5.581095e-06]\n",
      "[48 29] [0.7537015  0.24629852]\n",
      "[46 37] [9.9999750e-01 2.4778797e-06]\n",
      "[47 42] [9.9999678e-01 3.2387009e-06]\n",
      "[ 5 55] [9.9998415e-01 1.5863534e-05]\n",
      "[ 3 29] [9.9999976e-01 2.3224213e-07]\n",
      "[[ 2 28 33 30 29 50 41  5 28 32 29 39  4 40 34  5 28 31 48 46 47  5  3]]\n"
     ]
    }
   ],
   "source": [
    "# Start with [START]\n",
    "y_placeholder = np.array([[2]])\n",
    "\n",
    "while y_placeholder.shape[-1] < 100:\n",
    "    \n",
    "    logits, attn = transformer([x, y_placeholder])\n",
    "    \n",
    "    #print(\"attn shape:\", attn[\"decoder_layer4_block2\"][0][0].shape)\n",
    "\n",
    "    logits = logits[0].numpy()[-1]\n",
    "    \n",
    "    token, i_s, ps = sample_from(logits, top_k=2, temp=1)\n",
    "    \n",
    "    print(i_s, ps)\n",
    "    # Update place holder\n",
    "    y_placeholder = np.array([ list(y_placeholder[0]) +  [token] ])\n",
    "    \n",
    "    if token == 3: # [STOP]\n",
    "        break\n",
    "        \n",
    "print(y_placeholder)"
   ]
  },
  {
   "cell_type": "code",
   "execution_count": 681,
   "id": "2d95c249",
   "metadata": {},
   "outputs": [],
   "source": [
    "transformer.save_weights(\"./25_10_2021_transformer_model_weights.h5\")"
   ]
  },
  {
   "cell_type": "code",
   "execution_count": 672,
   "id": "1f8305c7",
   "metadata": {},
   "outputs": [
    {
     "data": {
      "text/plain": [
       "array([9.9999976e-01, 2.7438219e-07], dtype=float32)"
      ]
     },
     "execution_count": 672,
     "metadata": {},
     "output_type": "execute_result"
    }
   ],
   "source": [
    "ps"
   ]
  },
  {
   "cell_type": "code",
   "execution_count": null,
   "id": "5c411ff9",
   "metadata": {},
   "outputs": [],
   "source": []
  },
  {
   "cell_type": "code",
   "execution_count": 368,
   "id": "fdfbe7e4",
   "metadata": {
    "scrolled": true
   },
   "outputs": [
    {
     "name": "stdout",
     "output_type": "stream",
     "text": [
      "Answer: the upper layer shows parakeratosis . the epidermis shows severe dysplasia . the dermis appears normal .\n",
      "\n",
      "Pred: the upper layer shows fragmented basket weave keratosis . the epidermis shows full - thickness dysplasia . the dermis appears normal .\n"
     ]
    }
   ],
   "source": [
    "# Real\n",
    "text = tokenizer.detokenize(tf.convert_to_tensor(y_real))\n",
    "result = cleanup_text(reserved_tokens, text)\n",
    "print(\"Answer:\", result)\n",
    "print()\n",
    "# prediction\n",
    "text = tokenizer.detokenize(tf.convert_to_tensor(y_placeholder))\n",
    "result = cleanup_text(reserved_tokens, text)\n",
    "print(\"Pred:\", result)"
   ]
  },
  {
   "cell_type": "code",
   "execution_count": 665,
   "id": "484822e7",
   "metadata": {},
   "outputs": [
    {
     "data": {
      "text/plain": [
       "4"
      ]
     },
     "execution_count": 665,
     "metadata": {},
     "output_type": "execute_result"
    }
   ],
   "source": [
    "2 + 2"
   ]
  },
  {
   "cell_type": "markdown",
   "id": "7f24fc15",
   "metadata": {},
   "source": [
    "# Example with Image"
   ]
  },
  {
   "cell_type": "code",
   "execution_count": 369,
   "id": "6ecb4b11",
   "metadata": {},
   "outputs": [],
   "source": [
    "import skimage.io as io\n",
    "from skimage.transform import resize"
   ]
  },
  {
   "cell_type": "code",
   "execution_count": 435,
   "id": "eea25b8f",
   "metadata": {},
   "outputs": [],
   "source": [
    "files = os.listdir(TEST_DIR)\n",
    "\n",
    "np.random.shuffle(files)"
   ]
  },
  {
   "cell_type": "code",
   "execution_count": 608,
   "id": "d87cff69",
   "metadata": {},
   "outputs": [],
   "source": [
    "CASE = files[38]\n",
    "\n",
    "# Load code\n",
    "CODE = np.load(os.path.join(TEST_DIR, CASE))\n",
    "\n",
    "# Load image\n",
    "img = io.imread(\"/home/simon/Documents/Programming/Data/iec_1024/test_data/\" + CASE.split(\".\")[0] + \".jpg\")\n",
    "img = resize(img, (256, 256))\n",
    "\n",
    "# Load annoation\n",
    "if \"_lr\" in CASE:\n",
    "    CASE = CASE.replace(\"_lr\", \"\")\n",
    "y_real = np.load(os.path.join(ANNOTATION_DIR, CASE))"
   ]
  },
  {
   "cell_type": "code",
   "execution_count": 609,
   "id": "ac411a80",
   "metadata": {},
   "outputs": [],
   "source": [
    "x = tf.convert_to_tensor(CODE.ravel()[np.newaxis])"
   ]
  },
  {
   "cell_type": "code",
   "execution_count": 635,
   "id": "5c5818e7",
   "metadata": {},
   "outputs": [
    {
     "name": "stdout",
     "output_type": "stream",
     "text": [
      "[[ 2 28 33 30 29 50 41  5 28 32 29 39  4 40 34  5 28 31 48 46 47  5  3]]\n"
     ]
    }
   ],
   "source": [
    "attn_steps = []\n",
    "# Start with [START]\n",
    "y_placeholder = np.array([[2]])\n",
    "\n",
    "while y_placeholder.shape[-1] < 100:\n",
    "    \n",
    "    logits, attn = transformer([x, y_placeholder])\n",
    "    \n",
    "    #print(\"attn shape:\", attn[\"decoder_layer4_block2\"][0][0].shape)\n",
    "    attn_steps.append(attn[\"decoder_layer4_block2\"][0][0].numpy())\n",
    "\n",
    "    logits = logits[0].numpy()[-1]\n",
    "    \n",
    "    token = sample_from(logits, top_k=1, temp=1)\n",
    "    \n",
    "    # Update place holder\n",
    "    y_placeholder = np.array([ list(y_placeholder[0]) +  [token] ])\n",
    "    \n",
    "    if token == 3: # [STOP]\n",
    "        break\n",
    "        \n",
    "print(y_placeholder)"
   ]
  },
  {
   "cell_type": "code",
   "execution_count": 636,
   "id": "5e17e500",
   "metadata": {},
   "outputs": [
    {
     "name": "stdout",
     "output_type": "stream",
     "text": [
      "Caption: The upper layer shows thick parakeratosis. The epidermis shows full-thickness dysplasia. The dermis has been displaced.\n",
      "Predict: The upper layer shows thick parakeratosis. The epidermis shows full - thickness dysplasia. The dermis has been displaced .\n"
     ]
    },
    {
     "data": {
      "image/png": "[encoded data removed]",
      "text/plain": [
       "<Figure size 432x432 with 1 Axes>"
      ]
     },
     "metadata": {
      "needs_background": "light"
     },
     "output_type": "display_data"
    }
   ],
   "source": [
    "print(\"Caption:\", y_real.flatten()[0])\n",
    "\n",
    "# prediction\n",
    "text = tokenizer.detokenize(tf.convert_to_tensor(y_placeholder))\n",
    "result = cleanup_text(reserved_tokens, text)\n",
    "\n",
    "result = \". \".join([r[0].upper() + r[1:-1] for r in result.split(\". \")]) + \".\"\n",
    "\n",
    "print(\"Predict:\", result)\n",
    "\n",
    "plt.figure(figsize=(6, 6))\n",
    "plt.imshow(img)\n",
    "plt.axis(\"off\")\n",
    "plt.show()\n"
   ]
  },
  {
   "cell_type": "markdown",
   "id": "c51587e8",
   "metadata": {},
   "source": [
    "# Evaluate With Predictions"
   ]
  },
  {
   "cell_type": "code",
   "execution_count": 102,
   "id": "e5ae0f64",
   "metadata": {},
   "outputs": [],
   "source": [
    "def predict(x):\n",
    "\n",
    "    attn_steps = []\n",
    "    # Start with [START]\n",
    "    y_placeholder = np.array([[2]])\n",
    "\n",
    "    while y_placeholder.shape[-1] < 100:\n",
    "\n",
    "        logits, attn = transformer([x, y_placeholder])\n",
    "\n",
    "        logits = logits[0].numpy()[-1]\n",
    "\n",
    "        token = sample_from(logits, top_k=1, temp=1)\n",
    "\n",
    "        # Update place holder\n",
    "        y_placeholder = np.array([ list(y_placeholder[0]) +  [token] ])\n",
    "\n",
    "        if token == 3: # [STOP]\n",
    "            break\n",
    "\n",
    "    return y_placeholder"
   ]
  },
  {
   "cell_type": "code",
   "execution_count": 115,
   "id": "c262c6b9",
   "metadata": {},
   "outputs": [
    {
     "name": "stdout",
     "output_type": "stream",
     "text": [
      "29 of 2624\n",
      "ker 0.3333333333333333 epi 0.5666666666666667 der 0.6666666666666666 \n",
      "59 of 2624\n",
      "ker 0.4 epi 0.6 der 0.75 \n",
      "89 of 2624\n",
      "ker 0.4 epi 0.6222222222222222 der 0.7444444444444445 \n",
      "119 of 2624\n",
      "ker 0.425 epi 0.625 der 0.7166666666666667 \n",
      "149 of 2624\n",
      "ker 0.38666666666666666 epi 0.6333333333333333 der 0.7333333333333333 \n",
      "179 of 2624\n",
      "ker 0.36666666666666664 epi 0.6388888888888888 der 0.7277777777777777 \n",
      "209 of 2624\n",
      "ker 0.36666666666666664 epi 0.6047619047619047 der 0.7333333333333333 \n",
      "239 of 2624\n",
      "ker 0.37916666666666665 epi 0.6 der 0.7291666666666666 \n",
      "269 of 2624\n",
      "ker 0.37407407407407406 epi 0.6 der 0.7333333333333333 \n",
      "299 of 2624\n",
      "ker 0.38333333333333336 epi 0.6 der 0.74 \n",
      "329 of 2624\n",
      "ker 0.38484848484848483 epi 0.603030303030303 der 0.7424242424242424 \n",
      "359 of 2624\n",
      "ker 0.38333333333333336 epi 0.5833333333333334 der 0.7444444444444445 \n",
      "389 of 2624\n",
      "ker 0.37948717948717947 epi 0.5820512820512821 der 0.7384615384615385 \n",
      "419 of 2624\n",
      "ker 0.3904761904761905 epi 0.5880952380952381 der 0.7380952380952381 \n",
      "449 of 2624\n",
      "ker 0.38222222222222224 epi 0.5888888888888889 der 0.7422222222222222 \n",
      "479 of 2624\n",
      "ker 0.3854166666666667 epi 0.58125 der 0.7458333333333333 \n",
      "509 of 2624\n",
      "ker 0.39019607843137255 epi 0.5882352941176471 der 0.7490196078431373 \n",
      "539 of 2624\n",
      "ker 0.387037037037037 epi 0.5888888888888889 der 0.7462962962962963 \n",
      "569 of 2624\n",
      "ker 0.387719298245614 epi 0.5964912280701754 der 0.7421052631578947 \n",
      "599 of 2624\n",
      "ker 0.38166666666666665 epi 0.5966666666666667 der 0.7433333333333333 \n",
      "629 of 2624\n",
      "ker 0.3873015873015873 epi 0.5952380952380952 der 0.7428571428571429 \n",
      "659 of 2624\n",
      "ker 0.38484848484848483 epi 0.5954545454545455 der 0.7439393939393939 \n",
      "689 of 2624\n",
      "ker 0.3826086956521739 epi 0.5927536231884057 der 0.736231884057971 \n",
      "719 of 2624\n",
      "ker 0.38055555555555554 epi 0.5972222222222222 der 0.7361111111111112 \n",
      "749 of 2624\n",
      "ker 0.38133333333333336 epi 0.5933333333333334 der 0.7306666666666667 \n",
      "779 of 2624\n",
      "ker 0.38461538461538464 epi 0.5948717948717949 der 0.7307692307692307 \n",
      "809 of 2624\n",
      "ker 0.38395061728395063 epi 0.5950617283950618 der 0.7234567901234568 \n",
      "839 of 2624\n",
      "ker 0.38333333333333336 epi 0.5964285714285714 der 0.7214285714285714 \n",
      "869 of 2624\n",
      "ker 0.3816091954022989 epi 0.596551724137931 der 0.7172413793103448 \n",
      "899 of 2624\n",
      "ker 0.37777777777777777 epi 0.5977777777777777 der 0.7188888888888889 \n",
      "929 of 2624\n",
      "ker 0.37849462365591396 epi 0.5946236559139785 der 0.7150537634408602 \n",
      "959 of 2624\n",
      "ker 0.3802083333333333 epi 0.5927083333333333 der 0.7177083333333333 \n",
      "989 of 2624\n",
      "ker 0.38181818181818183 epi 0.591919191919192 der 0.7191919191919192 \n",
      "1019 of 2624\n",
      "ker 0.37941176470588234 epi 0.5882352941176471 der 0.7186274509803922 \n",
      "1049 of 2624\n",
      "ker 0.379047619047619 epi 0.5838095238095238 der 0.7142857142857143 \n",
      "1079 of 2624\n",
      "ker 0.38055555555555554 epi 0.5805555555555556 der 0.7175925925925926 \n",
      "1109 of 2624\n",
      "ker 0.3801801801801802 epi 0.581081081081081 der 0.7162162162162162 \n",
      "1139 of 2624\n",
      "ker 0.3850877192982456 epi 0.5771929824561404 der 0.7175438596491228 \n",
      "1169 of 2624\n",
      "ker 0.38461538461538464 epi 0.5752136752136752 der 0.7162393162393162 \n",
      "1199 of 2624\n",
      "ker 0.3858333333333333 epi 0.5725 der 0.7166666666666667 \n",
      "1229 of 2624\n",
      "ker 0.3861788617886179 epi 0.5747967479674797 der 0.7162601626016261 \n",
      "1259 of 2624\n",
      "ker 0.39206349206349206 epi 0.5738095238095238 der 0.719047619047619 \n",
      "1289 of 2624\n",
      "ker 0.3922480620155039 epi 0.5713178294573643 der 0.7155038759689922 \n",
      "1319 of 2624\n",
      "ker 0.3924242424242424 epi 0.5704545454545454 der 0.7166666666666667 \n",
      "1349 of 2624\n",
      "ker 0.3940740740740741 epi 0.5725925925925925 der 0.7185185185185186 \n",
      "1379 of 2624\n",
      "ker 0.39492753623188404 epi 0.5739130434782609 der 0.7159420289855073 \n",
      "1409 of 2624\n",
      "ker 0.3950354609929078 epi 0.5702127659574469 der 0.7163120567375887 \n",
      "1439 of 2624\n",
      "ker 0.39652777777777776 epi 0.5722222222222222 der 0.7201388888888889 \n",
      "1469 of 2624\n",
      "ker 0.39659863945578233 epi 0.5741496598639456 der 0.719047619047619 \n",
      "1499 of 2624\n",
      "ker 0.3973333333333333 epi 0.576 der 0.7186666666666667 \n",
      "1529 of 2624\n",
      "ker 0.396078431372549 epi 0.5764705882352941 der 0.7176470588235294 \n",
      "1559 of 2624\n",
      "ker 0.39615384615384613 epi 0.5762820512820512 der 0.717948717948718 \n",
      "1589 of 2624\n",
      "ker 0.3955974842767296 epi 0.5735849056603773 der 0.7157232704402515 \n",
      "1619 of 2624\n",
      "ker 0.3932098765432099 epi 0.5746913580246914 der 0.717283950617284 \n",
      "1649 of 2624\n",
      "ker 0.3927272727272727 epi 0.5715151515151515 der 0.7181818181818181 \n",
      "1679 of 2624\n",
      "ker 0.39107142857142857 epi 0.5720238095238095 der 0.7172619047619048 \n",
      "1709 of 2624\n",
      "ker 0.391812865497076 epi 0.571345029239766 der 0.716374269005848 \n",
      "1739 of 2624\n",
      "ker 0.39195402298850573 epi 0.5741379310344827 der 0.7155172413793104 \n",
      "1769 of 2624\n",
      "ker 0.3926553672316384 epi 0.5706214689265536 der 0.7152542372881356 \n",
      "1799 of 2624\n",
      "ker 0.39166666666666666 epi 0.5688888888888889 der 0.7105555555555556 \n",
      "1829 of 2624\n",
      "ker 0.3918032786885246 epi 0.5666666666666667 der 0.7131147540983607 \n",
      "1859 of 2624\n",
      "ker 0.3935483870967742 epi 0.5655913978494623 der 0.7129032258064516 \n",
      "1889 of 2624\n",
      "ker 0.39470899470899473 epi 0.5682539682539682 der 0.7137566137566138 \n",
      "1919 of 2624\n",
      "ker 0.3953125 epi 0.5697916666666667 der 0.7177083333333333 \n",
      "1949 of 2624\n",
      "ker 0.39692307692307693 epi 0.5687179487179487 der 0.7184615384615385 \n",
      "1979 of 2624\n",
      "ker 0.39595959595959596 epi 0.5686868686868687 der 0.7191919191919192 \n",
      "2009 of 2624\n",
      "ker 0.39552238805970147 epi 0.5676616915422885 der 0.7179104477611941 \n",
      "2039 of 2624\n",
      "ker 0.39509803921568626 epi 0.5656862745098039 der 0.7181372549019608 \n",
      "2069 of 2624\n",
      "ker 0.39516908212560387 epi 0.5657004830917874 der 0.7188405797101449 \n",
      "2099 of 2624\n",
      "ker 0.39476190476190476 epi 0.5671428571428572 der 0.719047619047619 \n",
      "2129 of 2624\n",
      "ker 0.39436619718309857 epi 0.5666666666666667 der 0.719718309859155 \n",
      "2159 of 2624\n",
      "ker 0.39305555555555555 epi 0.5671296296296297 der 0.7171296296296297 \n",
      "2189 of 2624\n",
      "ker 0.391324200913242 epi 0.5657534246575342 der 0.7178082191780822 \n",
      "2219 of 2624\n",
      "ker 0.3900900900900901 epi 0.5662162162162162 der 0.7175675675675676 \n",
      "2249 of 2624\n",
      "ker 0.39111111111111113 epi 0.5644444444444444 der 0.7182222222222222 \n",
      "2279 of 2624\n",
      "ker 0.3907894736842105 epi 0.5644736842105263 der 0.7171052631578947 \n",
      "2309 of 2624\n",
      "ker 0.3887445887445887 epi 0.5636363636363636 der 0.716017316017316 \n",
      "2339 of 2624\n",
      "ker 0.3888888888888889 epi 0.5636752136752137 der 0.7162393162393162 \n",
      "2369 of 2624\n",
      "ker 0.389873417721519 epi 0.5641350210970464 der 0.7164556962025317 \n",
      "2399 of 2624\n",
      "ker 0.3904166666666667 epi 0.5645833333333333 der 0.7166666666666667 \n",
      "2429 of 2624\n",
      "ker 0.3893004115226337 epi 0.562962962962963 der 0.7156378600823046 \n",
      "2459 of 2624\n",
      "ker 0.3882113821138211 epi 0.5630081300813008 der 0.7162601626016261 \n",
      "2489 of 2624\n",
      "ker 0.3895582329317269 epi 0.5626506024096386 der 0.7160642570281125 \n",
      "2519 of 2624\n",
      "ker 0.3900793650793651 epi 0.5623015873015873 der 0.7166666666666667 \n",
      "2549 of 2624\n",
      "ker 0.38745098039215686 epi 0.5611764705882353 der 0.7156862745098039 \n",
      "2579 of 2624\n",
      "ker 0.3891472868217054 epi 0.5627906976744186 der 0.7158914728682171 \n",
      "2609 of 2624\n",
      "ker 0.38773946360153255 epi 0.5628352490421455 der 0.7160919540229885 \n",
      "2623 of 2624\r"
     ]
    }
   ],
   "source": [
    "count = 0\n",
    "scores = { \"ker\": 0, \"epi\": 0, \"der\": 0}\n",
    "for batch in test_gen:\n",
    "\n",
    "    x, y_real = batch\n",
    "    print(count, \"of\", TN, end=\"\\r\")\n",
    "    \n",
    "    #logits, attn = transformer(batch)\n",
    "    \n",
    "    y_pred = predict(x)\n",
    "    \n",
    "    # Real\n",
    "    text = tokenizer.detokenize(tf.convert_to_tensor(y_real))\n",
    "    answer = cleanup_text(reserved_tokens, text)\n",
    "\n",
    "    # prediction\n",
    "    text = tokenizer.detokenize(tf.convert_to_tensor(y_pred))\n",
    "    prediction = cleanup_text(reserved_tokens, text)\n",
    "    \n",
    "    \n",
    "    # Clean them more\n",
    "    \n",
    "    answer = answer.replace(\"the upper layer shows \", \"\")\n",
    "    answer = answer.replace(\"the epidermis shows \", \"\")\n",
    "    answer = answer.replace(\"the dermis \", \"\")\n",
    "    \n",
    "    prediction = prediction.replace(\"the upper layer shows \", \"\")\n",
    "    prediction = prediction.replace(\"the epidermis shows \", \"\")\n",
    "    prediction = prediction.replace(\"the dermis \", \"\")\n",
    "    \n",
    "    \n",
    "    # Split them into three parts\n",
    "    answer = answer.split(\" . \")\n",
    "    prediction = prediction.split(\" . \")\n",
    "    \n",
    "    \n",
    "    for a, p, k in zip(answer, prediction, scores.keys()):\n",
    "        \n",
    "        if a == p:\n",
    "            scores[k] += 1\n",
    "    \n",
    "    \n",
    "    #\n",
    "    #break\n",
    "    # Tally\n",
    "    count += 1\n",
    "    if count >= TN:\n",
    "        break\n",
    "\n",
    "#     if count >  48:\n",
    "#         break\n",
    "\n",
    "    if count % 30 == 0:\n",
    "        print()\n",
    "        for key in scores:\n",
    "            print(key, scores[key]/count, end=\" \")\n",
    "        print()"
   ]
  },
  {
   "cell_type": "code",
   "execution_count": 119,
   "id": "014df1b8",
   "metadata": {},
   "outputs": [
    {
     "name": "stdout",
     "output_type": "stream",
     "text": [
      "fragmented basket weave keratosis thick basket weave keratosis\n",
      "mild dysplasia mild dysplasia\n",
      "appears solar damaged . appears solar damaged .\n",
      "\n",
      "thin parakeratosis thin keratosis\n",
      "full - thickness dysplasia full - thickness dysplasia\n",
      "appears solar damaged . appears solar damaged .\n",
      "\n",
      "eroded keratosis thin keratosis\n",
      "severe dysplasia moderate dysplasia\n",
      "appears normal . appears solar damaged .\n",
      "\n",
      "basket weave keratosis basket weave keratosis\n",
      "mild dysplasia moderate dysplasia\n",
      "appears solar damaged . appears solar damaged .\n",
      "\n",
      "basket weave keratosis basket weave keratosis\n",
      "mild dysplasia mild dysplasia\n",
      "appears solar damaged . appears solar damaged .\n",
      "\n",
      "basket weave keratosis basket weave keratosis\n",
      "moderate dysplasia severe dysplasia\n",
      "appears abnormal . appears normal .\n",
      "\n"
     ]
    }
   ],
   "source": [
    "count = 0\n",
    "for batch in test_gen:\n",
    "\n",
    "    x, y_real = batch\n",
    "    print(count, \"of\", TN, end=\"\\r\")\n",
    "    \n",
    "    #logits, attn = transformer(batch)\n",
    "    \n",
    "    y_pred = predict(x)\n",
    "    \n",
    "    # Real\n",
    "    text = tokenizer.detokenize(tf.convert_to_tensor(y_real))\n",
    "    answer = cleanup_text(reserved_tokens, text)\n",
    "\n",
    "    # prediction\n",
    "    text = tokenizer.detokenize(tf.convert_to_tensor(y_pred))\n",
    "    prediction = cleanup_text(reserved_tokens, text)\n",
    "    \n",
    "    \n",
    "    # Clean them more\n",
    "    \n",
    "    answer = answer.replace(\"the upper layer shows \", \"\")\n",
    "    answer = answer.replace(\"the epidermis shows \", \"\")\n",
    "    answer = answer.replace(\"the dermis \", \"\")\n",
    "    \n",
    "    prediction = prediction.replace(\"the upper layer shows \", \"\")\n",
    "    prediction = prediction.replace(\"the epidermis shows \", \"\")\n",
    "    prediction = prediction.replace(\"the dermis \", \"\")\n",
    "    \n",
    "    \n",
    "    # Split them into three parts\n",
    "    answer = answer.split(\" . \")\n",
    "    prediction = prediction.split(\" . \")\n",
    "    \n",
    "    \n",
    "    for a,p in zip(answer, prediction):\n",
    "        print(a, p)\n",
    "        \n",
    "    print()\n",
    "    \n",
    "    count += 1\n",
    "    if count >  5:\n",
    "        break\n",
    "\n"
   ]
  },
  {
   "cell_type": "code",
   "execution_count": 658,
   "id": "a0c5d672",
   "metadata": {},
   "outputs": [],
   "source": [
    "m = attn_steps[-1]"
   ]
  },
  {
   "cell_type": "code",
   "execution_count": 659,
   "id": "02f3b77c",
   "metadata": {},
   "outputs": [],
   "source": [
    "m = m.reshape((22, 16, 16))"
   ]
  },
  {
   "cell_type": "code",
   "execution_count": 660,
   "id": "a5caec32",
   "metadata": {},
   "outputs": [],
   "source": [
    "masks = np.copy(m)"
   ]
  },
  {
   "cell_type": "code",
   "execution_count": 612,
   "id": "8e89680d",
   "metadata": {},
   "outputs": [],
   "source": [
    "masks = []\n",
    "for i, mask in enumerate(attn_steps):\n",
    "    m = mask[i].reshape(16, 16)\n",
    "    masks.append(m)"
   ]
  },
  {
   "cell_type": "code",
   "execution_count": 613,
   "id": "21077977",
   "metadata": {},
   "outputs": [],
   "source": [
    "from matplotlib.transforms import Bbox"
   ]
  },
  {
   "cell_type": "code",
   "execution_count": 614,
   "id": "1b3cc89a",
   "metadata": {},
   "outputs": [
    {
     "data": {
      "text/plain": [
       "<tf.RaggedTensor [[b'[START]', b'the', b'upper', b'layer', b'shows', b'thick', b'parakeratosis', b'.', b'the', b'epidermis', b'shows', b'full', b'-', b'thickness', b'dysplasia', b'.', b'the', b'dermis', b'has', b'been', b'displaced', b'.', b'[END]']]>"
      ]
     },
     "execution_count": 614,
     "metadata": {},
     "output_type": "execute_result"
    }
   ],
   "source": [
    "text"
   ]
  },
  {
   "cell_type": "code",
   "execution_count": 663,
   "id": "a020b2c4",
   "metadata": {},
   "outputs": [
    {
     "name": "stdout",
     "output_type": "stream",
     "text": [
      "[START]\n",
      "the\n",
      "upper\n",
      "layer\n",
      "shows\n",
      "thick\n",
      "parakeratosis\n",
      ".\n",
      "the\n",
      "epidermis\n",
      "shows\n",
      "full\n",
      "-\n",
      "thickness\n",
      "dysplasia\n",
      ".\n",
      "the\n",
      "dermis\n",
      "has\n",
      "been\n",
      "displaced\n",
      ".\n"
     ]
    }
   ],
   "source": [
    "\n",
    "blocks = []\n",
    "row = np.zeros((16, 16))\n",
    "\n",
    "count = 0\n",
    "for i, m in enumerate(masks):\n",
    "    \n",
    "    s = text[0][i].numpy().decode()\n",
    "    count += 1\n",
    "    \n",
    "    if s == \".\":\n",
    "        blocks.append(np.copy(row))\n",
    "        # reset\n",
    "        row = np.zeros((16, 16))\n",
    "        count = 0\n",
    "    else:\n",
    "        m /= m.max()\n",
    "        row += m\n",
    "        \n",
    "    print(s)"
   ]
  },
  {
   "cell_type": "code",
   "execution_count": 664,
   "id": "89886005",
   "metadata": {},
   "outputs": [
    {
     "name": "stdout",
     "output_type": "stream",
     "text": [
      "3.582139333768282\n"
     ]
    },
    {
     "data": {
      "image/png": "[encoded data removed]",
      "text/plain": [
       "<Figure size 432x288 with 1 Axes>"
      ]
     },
     "metadata": {
      "needs_background": "light"
     },
     "output_type": "display_data"
    },
    {
     "name": "stdout",
     "output_type": "stream",
     "text": [
      "3.4101707611698657\n"
     ]
    },
    {
     "data": {
      "image/png": "[encoded data removed]",
      "text/plain": [
       "<Figure size 432x288 with 1 Axes>"
      ]
     },
     "metadata": {
      "needs_background": "light"
     },
     "output_type": "display_data"
    },
    {
     "name": "stdout",
     "output_type": "stream",
     "text": [
      "2.7363182455301285\n"
     ]
    },
    {
     "data": {
      "image/png": "[encoded data removed]",
      "text/plain": [
       "<Figure size 432x288 with 1 Axes>"
      ]
     },
     "metadata": {
      "needs_background": "light"
     },
     "output_type": "display_data"
    }
   ],
   "source": [
    "for b in blocks:\n",
    "    \n",
    "    print(b.max())\n",
    "    plt.imshow(b)\n",
    "    plt.show()"
   ]
  },
  {
   "cell_type": "code",
   "execution_count": 617,
   "id": "06531ee6",
   "metadata": {},
   "outputs": [
    {
     "data": {
      "text/plain": [
       "0.026510451"
      ]
     },
     "execution_count": 617,
     "metadata": {},
     "output_type": "execute_result"
    }
   ],
   "source": [
    "m.max()"
   ]
  },
  {
   "cell_type": "code",
   "execution_count": 71,
   "id": "1287469c",
   "metadata": {
    "scrolled": false
   },
   "outputs": [],
   "source": [
    "my_dpi = 100 # Good default - doesn't really matter\n",
    "\n",
    "# Size of output in pixels\n",
    "h = 256\n",
    "w = 256\n",
    "\n",
    "\n",
    "blocks = []\n",
    "row = []\n",
    "\n",
    "for i, m in enumerate(masks[:-1]):\n",
    "    \n",
    "    m /= m.max()\n",
    "    \n",
    "    #m = resize(m, (32, 32), order=0)\n",
    "    \n",
    "    m = resize(m, (256, 256), order=0)[..., np.newaxis]\n",
    "     \n",
    "        \n",
    "    fig, ax = plt.subplots(1, figsize=(w/my_dpi, h/my_dpi), dpi=my_dpi)\n",
    "    ax.set_position([0, 0, 1, 1]) # Critical!\n",
    "    \n",
    "    title = text[0][i].numpy().decode()\n",
    "    #ax[0].title(title)\n",
    "    #ax.imshow(np.zeros((256, 256, 3)))\n",
    "    #ax.imshow(np.dstack([img, m]))\n",
    "    \n",
    "    m[m < 0.2] = np.nan\n",
    "    ax.imshow(img)\n",
    "    ax.imshow(m, alpha=0.4)\n",
    "    ax.axis(\"off\")\n",
    "    \n",
    "    fig.savefig(f\"/home/simon/Documents/Programming/Project3/out/{i:04d}_{title}.png\",\n",
    "            bbox_inches=Bbox([[0, 0], [w/my_dpi, h/my_dpi]]),\n",
    "            dpi=my_dpi)\n",
    "    \n",
    "    plt.close()\n",
    "    #\n",
    "    #plt.show()"
   ]
  },
  {
   "cell_type": "code",
   "execution_count": null,
   "id": "58b507d4",
   "metadata": {},
   "outputs": [],
   "source": []
  }
 ],
 "metadata": {
  "kernelspec": {
   "display_name": "Python 3 (ipykernel)",
   "language": "python",
   "name": "python3"
  },
  "language_info": {
   "codemirror_mode": {
    "name": "ipython",
    "version": 3
   },
   "file_extension": ".py",
   "mimetype": "text/x-python",
   "name": "python",
   "nbconvert_exporter": "python",
   "pygments_lexer": "ipython3",
   "version": "3.8.5"
  }
 },
 "nbformat": 4,
 "nbformat_minor": 5
}
